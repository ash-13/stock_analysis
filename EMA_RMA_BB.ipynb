{
  "nbformat": 4,
  "nbformat_minor": 0,
  "metadata": {
    "colab": {
      "name": "EMA_RMA_BB.ipynb",
      "provenance": [],
      "collapsed_sections": [
        "GKBcKVIITwra",
        "FSJLipfKUAIK",
        "cF-wE3JqS8Nw",
        "0FwxemvnahE2",
        "zDq1WbdnwLMC",
        "T9qcOyBM9NfV",
        "s3-yOoV2F5Ay",
        "6a5EXtG8GzXY"
      ]
    },
    "kernelspec": {
      "name": "python3",
      "display_name": "Python 3"
    },
    "language_info": {
      "name": "python"
    }
  },
  "cells": [
    {
      "cell_type": "markdown",
      "metadata": {
        "id": "5zoi31EdEpdq"
      },
      "source": [
        "# Mito "
      ]
    },
    {
      "cell_type": "code",
      "metadata": {
        "id": "O_OBol45Erw1"
      },
      "source": [
        "!pip install mitoinstaller"
      ],
      "execution_count": null,
      "outputs": []
    },
    {
      "cell_type": "code",
      "metadata": {
        "colab": {
          "base_uri": "https://localhost:8080/",
          "height": 334
        },
        "id": "4K6RDI-LEyv3",
        "outputId": "35e54ecd-536c-46bd-e129-751966ac8a06"
      },
      "source": [
        "import mitosheet\n",
        "mitosheet.sheet()"
      ],
      "execution_count": null,
      "outputs": [
        {
          "output_type": "error",
          "ename": "ModuleNotFoundError",
          "evalue": "ignored",
          "traceback": [
            "\u001b[0;31m---------------------------------------------------------------------------\u001b[0m",
            "\u001b[0;31mModuleNotFoundError\u001b[0m                       Traceback (most recent call last)",
            "\u001b[0;32m<ipython-input-16-8e390680fcb2>\u001b[0m in \u001b[0;36m<module>\u001b[0;34m()\u001b[0m\n\u001b[0;32m----> 1\u001b[0;31m \u001b[0;32mimport\u001b[0m \u001b[0mmitosheet\u001b[0m\u001b[0;34m\u001b[0m\u001b[0;34m\u001b[0m\u001b[0m\n\u001b[0m\u001b[1;32m      2\u001b[0m \u001b[0mmitosheet\u001b[0m\u001b[0;34m.\u001b[0m\u001b[0msheet\u001b[0m\u001b[0;34m(\u001b[0m\u001b[0;34m)\u001b[0m\u001b[0;34m\u001b[0m\u001b[0;34m\u001b[0m\u001b[0m\n",
            "\u001b[0;31mModuleNotFoundError\u001b[0m: No module named 'mitosheet'",
            "",
            "\u001b[0;31m---------------------------------------------------------------------------\u001b[0;32m\nNOTE: If your import is failing due to a missing package, you can\nmanually install dependencies using either !pip or !apt.\n\nTo view examples of installing some common dependencies, click the\n\"Open Examples\" button below.\n\u001b[0;31m---------------------------------------------------------------------------\u001b[0m\n"
          ],
          "errorDetails": {
            "actions": [
              {
                "action": "open_url",
                "actionText": "Open Examples",
                "url": "/notebooks/snippets/importing_libraries.ipynb"
              }
            ]
          }
        }
      ]
    },
    {
      "cell_type": "markdown",
      "metadata": {
        "id": "RDHK-SjiEsMT"
      },
      "source": [
        "# Importing"
      ]
    },
    {
      "cell_type": "code",
      "metadata": {
        "id": "VlYWZGyzQtu2"
      },
      "source": [
        "import pandas as pd\n",
        "import numpy as np\n",
        "import matplotlib.pyplot as plt\n",
        "import matplotlib as mlp\n",
        "from datetime import datetime\n",
        "%matplotlib inline"
      ],
      "execution_count": null,
      "outputs": []
    },
    {
      "cell_type": "code",
      "metadata": {
        "id": "VZX6YQ0aMjnu"
      },
      "source": [
        "df = pd.read_csv('RELIANCE.csv')"
      ],
      "execution_count": null,
      "outputs": []
    },
    {
      "cell_type": "code",
      "metadata": {
        "colab": {
          "base_uri": "https://localhost:8080/",
          "height": 204
        },
        "id": "lQ7XrBITQXnR",
        "outputId": "6dd614eb-9e32-4ded-a042-b1687f6ab5a1"
      },
      "source": [
        "df.head()"
      ],
      "execution_count": null,
      "outputs": [
        {
          "output_type": "execute_result",
          "data": {
            "text/html": [
              "<div>\n",
              "<style scoped>\n",
              "    .dataframe tbody tr th:only-of-type {\n",
              "        vertical-align: middle;\n",
              "    }\n",
              "\n",
              "    .dataframe tbody tr th {\n",
              "        vertical-align: top;\n",
              "    }\n",
              "\n",
              "    .dataframe thead th {\n",
              "        text-align: right;\n",
              "    }\n",
              "</style>\n",
              "<table border=\"1\" class=\"dataframe\">\n",
              "  <thead>\n",
              "    <tr style=\"text-align: right;\">\n",
              "      <th></th>\n",
              "      <th>date</th>\n",
              "      <th>open</th>\n",
              "      <th>high</th>\n",
              "      <th>low</th>\n",
              "      <th>close</th>\n",
              "      <th>volume</th>\n",
              "    </tr>\n",
              "  </thead>\n",
              "  <tbody>\n",
              "    <tr>\n",
              "      <th>0</th>\n",
              "      <td>2021-03-01 09:15:00+05:30</td>\n",
              "      <td>2110.20</td>\n",
              "      <td>2111.90</td>\n",
              "      <td>2093.00</td>\n",
              "      <td>2093.00</td>\n",
              "      <td>258626</td>\n",
              "    </tr>\n",
              "    <tr>\n",
              "      <th>1</th>\n",
              "      <td>2021-03-01 09:16:00+05:30</td>\n",
              "      <td>2092.35</td>\n",
              "      <td>2097.85</td>\n",
              "      <td>2088.80</td>\n",
              "      <td>2096.75</td>\n",
              "      <td>120495</td>\n",
              "    </tr>\n",
              "    <tr>\n",
              "      <th>2</th>\n",
              "      <td>2021-03-01 09:17:00+05:30</td>\n",
              "      <td>2097.50</td>\n",
              "      <td>2097.50</td>\n",
              "      <td>2091.10</td>\n",
              "      <td>2095.20</td>\n",
              "      <td>60153</td>\n",
              "    </tr>\n",
              "    <tr>\n",
              "      <th>3</th>\n",
              "      <td>2021-03-01 09:18:00+05:30</td>\n",
              "      <td>2095.75</td>\n",
              "      <td>2098.80</td>\n",
              "      <td>2095.75</td>\n",
              "      <td>2097.20</td>\n",
              "      <td>35057</td>\n",
              "    </tr>\n",
              "    <tr>\n",
              "      <th>4</th>\n",
              "      <td>2021-03-01 09:19:00+05:30</td>\n",
              "      <td>2097.00</td>\n",
              "      <td>2102.15</td>\n",
              "      <td>2096.80</td>\n",
              "      <td>2102.15</td>\n",
              "      <td>40434</td>\n",
              "    </tr>\n",
              "  </tbody>\n",
              "</table>\n",
              "</div>"
            ],
            "text/plain": [
              "                        date     open     high      low    close  volume\n",
              "0  2021-03-01 09:15:00+05:30  2110.20  2111.90  2093.00  2093.00  258626\n",
              "1  2021-03-01 09:16:00+05:30  2092.35  2097.85  2088.80  2096.75  120495\n",
              "2  2021-03-01 09:17:00+05:30  2097.50  2097.50  2091.10  2095.20   60153\n",
              "3  2021-03-01 09:18:00+05:30  2095.75  2098.80  2095.75  2097.20   35057\n",
              "4  2021-03-01 09:19:00+05:30  2097.00  2102.15  2096.80  2102.15   40434"
            ]
          },
          "metadata": {},
          "execution_count": 4
        }
      ]
    },
    {
      "cell_type": "code",
      "metadata": {
        "colab": {
          "base_uri": "https://localhost:8080/"
        },
        "id": "Ka2Q8CZHQ8YA",
        "outputId": "2961324d-97cd-4f55-ab32-e91455db20e5"
      },
      "source": [
        "df.shape"
      ],
      "execution_count": null,
      "outputs": [
        {
          "output_type": "execute_result",
          "data": {
            "text/plain": [
              "(35805, 6)"
            ]
          },
          "metadata": {},
          "execution_count": 4
        }
      ]
    },
    {
      "cell_type": "code",
      "metadata": {
        "colab": {
          "base_uri": "https://localhost:8080/",
          "height": 450
        },
        "id": "C0QoZss70Kab",
        "outputId": "c1b28926-95d0-4b75-8800-c9292229b7ab"
      },
      "source": [
        "df"
      ],
      "execution_count": null,
      "outputs": [
        {
          "output_type": "execute_result",
          "data": {
            "text/html": [
              "<div>\n",
              "<style scoped>\n",
              "    .dataframe tbody tr th:only-of-type {\n",
              "        vertical-align: middle;\n",
              "    }\n",
              "\n",
              "    .dataframe tbody tr th {\n",
              "        vertical-align: top;\n",
              "    }\n",
              "\n",
              "    .dataframe thead th {\n",
              "        text-align: right;\n",
              "    }\n",
              "</style>\n",
              "<table border=\"1\" class=\"dataframe\">\n",
              "  <thead>\n",
              "    <tr style=\"text-align: right;\">\n",
              "      <th></th>\n",
              "      <th>open</th>\n",
              "      <th>high</th>\n",
              "      <th>low</th>\n",
              "      <th>close</th>\n",
              "      <th>volume</th>\n",
              "    </tr>\n",
              "    <tr>\n",
              "      <th>date</th>\n",
              "      <th></th>\n",
              "      <th></th>\n",
              "      <th></th>\n",
              "      <th></th>\n",
              "      <th></th>\n",
              "    </tr>\n",
              "  </thead>\n",
              "  <tbody>\n",
              "    <tr>\n",
              "      <th>2021-03-01 09:15:00+05:30</th>\n",
              "      <td>2110.20</td>\n",
              "      <td>2111.90</td>\n",
              "      <td>2093.00</td>\n",
              "      <td>2093.00</td>\n",
              "      <td>258626</td>\n",
              "    </tr>\n",
              "    <tr>\n",
              "      <th>2021-03-01 09:16:00+05:30</th>\n",
              "      <td>2092.35</td>\n",
              "      <td>2097.85</td>\n",
              "      <td>2088.80</td>\n",
              "      <td>2096.75</td>\n",
              "      <td>120495</td>\n",
              "    </tr>\n",
              "    <tr>\n",
              "      <th>2021-03-01 09:17:00+05:30</th>\n",
              "      <td>2097.50</td>\n",
              "      <td>2097.50</td>\n",
              "      <td>2091.10</td>\n",
              "      <td>2095.20</td>\n",
              "      <td>60153</td>\n",
              "    </tr>\n",
              "    <tr>\n",
              "      <th>2021-03-01 09:18:00+05:30</th>\n",
              "      <td>2095.75</td>\n",
              "      <td>2098.80</td>\n",
              "      <td>2095.75</td>\n",
              "      <td>2097.20</td>\n",
              "      <td>35057</td>\n",
              "    </tr>\n",
              "    <tr>\n",
              "      <th>2021-03-01 09:19:00+05:30</th>\n",
              "      <td>2097.00</td>\n",
              "      <td>2102.15</td>\n",
              "      <td>2096.80</td>\n",
              "      <td>2102.15</td>\n",
              "      <td>40434</td>\n",
              "    </tr>\n",
              "    <tr>\n",
              "      <th>...</th>\n",
              "      <td>...</td>\n",
              "      <td>...</td>\n",
              "      <td>...</td>\n",
              "      <td>...</td>\n",
              "      <td>...</td>\n",
              "    </tr>\n",
              "    <tr>\n",
              "      <th>2021-07-20 12:10:00+05:30</th>\n",
              "      <td>2088.40</td>\n",
              "      <td>2088.40</td>\n",
              "      <td>2087.10</td>\n",
              "      <td>2087.15</td>\n",
              "      <td>4951</td>\n",
              "    </tr>\n",
              "    <tr>\n",
              "      <th>2021-07-20 12:11:00+05:30</th>\n",
              "      <td>2087.10</td>\n",
              "      <td>2087.70</td>\n",
              "      <td>2085.65</td>\n",
              "      <td>2086.90</td>\n",
              "      <td>19915</td>\n",
              "    </tr>\n",
              "    <tr>\n",
              "      <th>2021-07-20 12:12:00+05:30</th>\n",
              "      <td>2086.40</td>\n",
              "      <td>2087.35</td>\n",
              "      <td>2085.25</td>\n",
              "      <td>2085.25</td>\n",
              "      <td>9461</td>\n",
              "    </tr>\n",
              "    <tr>\n",
              "      <th>2021-07-20 12:13:00+05:30</th>\n",
              "      <td>2085.05</td>\n",
              "      <td>2086.25</td>\n",
              "      <td>2084.00</td>\n",
              "      <td>2086.25</td>\n",
              "      <td>17818</td>\n",
              "    </tr>\n",
              "    <tr>\n",
              "      <th>2021-07-20 12:14:00+05:30</th>\n",
              "      <td>2085.70</td>\n",
              "      <td>2088.00</td>\n",
              "      <td>2085.70</td>\n",
              "      <td>2087.20</td>\n",
              "      <td>4438</td>\n",
              "    </tr>\n",
              "  </tbody>\n",
              "</table>\n",
              "<p>35805 rows × 5 columns</p>\n",
              "</div>"
            ],
            "text/plain": [
              "                              open     high      low    close  volume\n",
              "date                                                                 \n",
              "2021-03-01 09:15:00+05:30  2110.20  2111.90  2093.00  2093.00  258626\n",
              "2021-03-01 09:16:00+05:30  2092.35  2097.85  2088.80  2096.75  120495\n",
              "2021-03-01 09:17:00+05:30  2097.50  2097.50  2091.10  2095.20   60153\n",
              "2021-03-01 09:18:00+05:30  2095.75  2098.80  2095.75  2097.20   35057\n",
              "2021-03-01 09:19:00+05:30  2097.00  2102.15  2096.80  2102.15   40434\n",
              "...                            ...      ...      ...      ...     ...\n",
              "2021-07-20 12:10:00+05:30  2088.40  2088.40  2087.10  2087.15    4951\n",
              "2021-07-20 12:11:00+05:30  2087.10  2087.70  2085.65  2086.90   19915\n",
              "2021-07-20 12:12:00+05:30  2086.40  2087.35  2085.25  2085.25    9461\n",
              "2021-07-20 12:13:00+05:30  2085.05  2086.25  2084.00  2086.25   17818\n",
              "2021-07-20 12:14:00+05:30  2085.70  2088.00  2085.70  2087.20    4438\n",
              "\n",
              "[35805 rows x 5 columns]"
            ]
          },
          "metadata": {},
          "execution_count": 32
        }
      ]
    },
    {
      "cell_type": "code",
      "metadata": {
        "id": "zVmzfoBo3ds8",
        "colab": {
          "base_uri": "https://localhost:8080/"
        },
        "outputId": "cd907fff-ca8c-48e3-9cb2-11c1cce725d4"
      },
      "source": [
        "df.isna().sum()"
      ],
      "execution_count": null,
      "outputs": [
        {
          "output_type": "execute_result",
          "data": {
            "text/plain": [
              "date      0\n",
              "open      0\n",
              "high      0\n",
              "low       0\n",
              "close     0\n",
              "volume    0\n",
              "dtype: int64"
            ]
          },
          "metadata": {},
          "execution_count": 12
        }
      ]
    },
    {
      "cell_type": "code",
      "metadata": {
        "colab": {
          "base_uri": "https://localhost:8080/",
          "height": 49
        },
        "id": "qlXTaxFCBFWQ",
        "outputId": "60a2acc6-374f-4175-87cc-77ebc9c17a5e"
      },
      "source": [
        "df[df.isna().any(axis=1)]"
      ],
      "execution_count": null,
      "outputs": [
        {
          "output_type": "execute_result",
          "data": {
            "text/html": [
              "<div>\n",
              "<style scoped>\n",
              "    .dataframe tbody tr th:only-of-type {\n",
              "        vertical-align: middle;\n",
              "    }\n",
              "\n",
              "    .dataframe tbody tr th {\n",
              "        vertical-align: top;\n",
              "    }\n",
              "\n",
              "    .dataframe thead th {\n",
              "        text-align: right;\n",
              "    }\n",
              "</style>\n",
              "<table border=\"1\" class=\"dataframe\">\n",
              "  <thead>\n",
              "    <tr style=\"text-align: right;\">\n",
              "      <th></th>\n",
              "      <th>date</th>\n",
              "      <th>open</th>\n",
              "      <th>high</th>\n",
              "      <th>low</th>\n",
              "      <th>close</th>\n",
              "      <th>volume</th>\n",
              "    </tr>\n",
              "  </thead>\n",
              "  <tbody>\n",
              "  </tbody>\n",
              "</table>\n",
              "</div>"
            ],
            "text/plain": [
              "Empty DataFrame\n",
              "Columns: [date, open, high, low, close, volume]\n",
              "Index: []"
            ]
          },
          "metadata": {},
          "execution_count": 13
        }
      ]
    },
    {
      "cell_type": "markdown",
      "metadata": {
        "id": "GKBcKVIITwra"
      },
      "source": [
        "# SMA"
      ]
    },
    {
      "cell_type": "code",
      "metadata": {
        "id": "BgsnhaiWTyr6"
      },
      "source": [
        "sma_20 = df['close'].rolling(20).mean()"
      ],
      "execution_count": null,
      "outputs": []
    },
    {
      "cell_type": "code",
      "metadata": {
        "colab": {
          "base_uri": "https://localhost:8080/"
        },
        "id": "AfOJF-r5T93l",
        "outputId": "71f4a35c-6f4b-4396-d3df-1fc827c7ed57"
      },
      "source": [
        "sma_20"
      ],
      "execution_count": null,
      "outputs": [
        {
          "output_type": "execute_result",
          "data": {
            "text/plain": [
              "date\n",
              "2021-03-01 09:15:00+05:30          NaN\n",
              "2021-03-01 09:16:00+05:30          NaN\n",
              "2021-03-01 09:17:00+05:30          NaN\n",
              "2021-03-01 09:18:00+05:30          NaN\n",
              "2021-03-01 09:19:00+05:30          NaN\n",
              "                               ...    \n",
              "2021-07-20 12:10:00+05:30    2089.7100\n",
              "2021-07-20 12:11:00+05:30    2089.4550\n",
              "2021-07-20 12:12:00+05:30    2089.1575\n",
              "2021-07-20 12:13:00+05:30    2088.9200\n",
              "2021-07-20 12:14:00+05:30    2088.7700\n",
              "Name: close, Length: 35805, dtype: float64"
            ]
          },
          "metadata": {},
          "execution_count": 14
        }
      ]
    },
    {
      "cell_type": "code",
      "metadata": {
        "id": "bb1FAErAU_We"
      },
      "source": [
        "plt.figure(figsize = (12,6))\n",
        "plt.plot(df['high'], label=\"High Price\")\n",
        "plt.plot(sma_20, label=\"20-Days SMA\")\n",
        "plt.xlabel(\"Date\")\n",
        "plt.ylabel(\"Price\")\n",
        "plt.legend()\n",
        "plt.show()"
      ],
      "execution_count": null,
      "outputs": []
    },
    {
      "cell_type": "markdown",
      "metadata": {
        "id": "FSJLipfKUAIK"
      },
      "source": [
        "# WMA"
      ]
    },
    {
      "cell_type": "code",
      "metadata": {
        "id": "T6EGbmBJ5gny"
      },
      "source": [
        "df['close'].rolling(period=20).apply(weight)"
      ],
      "execution_count": null,
      "outputs": []
    },
    {
      "cell_type": "code",
      "metadata": {
        "id": "7rPX5Q9q5gj7"
      },
      "source": [
        ""
      ],
      "execution_count": null,
      "outputs": []
    },
    {
      "cell_type": "code",
      "metadata": {
        "id": "qLAXMzPeQZlr"
      },
      "source": [
        "weights = np.arange(1,11)"
      ],
      "execution_count": null,
      "outputs": []
    },
    {
      "cell_type": "code",
      "metadata": {
        "colab": {
          "base_uri": "https://localhost:8080/"
        },
        "id": "74APEjFwQrPT",
        "outputId": "ad3b7d0a-a11c-4bb0-9efd-c7c5d673bcd5"
      },
      "source": [
        "weights"
      ],
      "execution_count": null,
      "outputs": [
        {
          "output_type": "execute_result",
          "data": {
            "text/plain": [
              "array([ 1,  2,  3,  4,  5,  6,  7,  8,  9, 10])"
            ]
          },
          "metadata": {},
          "execution_count": 7
        }
      ]
    },
    {
      "cell_type": "code",
      "metadata": {
        "id": "l-W2z-1zQ1kN"
      },
      "source": [
        "\n",
        "weighted = []\n",
        "for i in range(len(df)):\n",
        "  total = np.arange(1, period + 1, 1)\n",
        "  matrix = df[i - 20 + 1: i +1, 3:4]\n",
        "  matrix = np.ndarray.flatten(matrix)\n",
        "  matrix = total * matrix\n",
        "  wma = (matrix.sum()) / (total.sum())\n",
        "  weighted = np.append(weighted, wma)\n"
      ],
      "execution_count": null,
      "outputs": []
    },
    {
      "cell_type": "code",
      "metadata": {
        "colab": {
          "base_uri": "https://localhost:8080/",
          "height": 394
        },
        "id": "SoIGsQAeRZOt",
        "outputId": "34ba5fa4-9ec2-4272-9d3a-0c89e9ffb98c"
      },
      "source": [
        "weightedMovingAvg(df, 20)"
      ],
      "execution_count": null,
      "outputs": [
        {
          "output_type": "error",
          "ename": "TypeError",
          "evalue": "ignored",
          "traceback": [
            "\u001b[0;31m---------------------------------------------------------------------------\u001b[0m",
            "\u001b[0;31mTypeError\u001b[0m                                 Traceback (most recent call last)",
            "\u001b[0;32m<ipython-input-65-4b890e5dc0ef>\u001b[0m in \u001b[0;36m<module>\u001b[0;34m()\u001b[0m\n\u001b[0;32m----> 1\u001b[0;31m \u001b[0mweightedMovingAvg\u001b[0m\u001b[0;34m(\u001b[0m\u001b[0mdf\u001b[0m\u001b[0;34m,\u001b[0m \u001b[0;36m20\u001b[0m\u001b[0;34m)\u001b[0m\u001b[0;34m\u001b[0m\u001b[0;34m\u001b[0m\u001b[0m\n\u001b[0m",
            "\u001b[0;32m<ipython-input-64-90f327e70ac9>\u001b[0m in \u001b[0;36mweightedMovingAvg\u001b[0;34m(df, period)\u001b[0m\n\u001b[1;32m      3\u001b[0m   \u001b[0;32mfor\u001b[0m \u001b[0mi\u001b[0m \u001b[0;32min\u001b[0m \u001b[0mrange\u001b[0m\u001b[0;34m(\u001b[0m\u001b[0mlen\u001b[0m\u001b[0;34m(\u001b[0m\u001b[0mdf\u001b[0m\u001b[0;34m)\u001b[0m\u001b[0;34m)\u001b[0m\u001b[0;34m:\u001b[0m\u001b[0;34m\u001b[0m\u001b[0;34m\u001b[0m\u001b[0m\n\u001b[1;32m      4\u001b[0m     \u001b[0mtotal\u001b[0m \u001b[0;34m=\u001b[0m \u001b[0mnp\u001b[0m\u001b[0;34m.\u001b[0m\u001b[0marange\u001b[0m\u001b[0;34m(\u001b[0m\u001b[0;36m1\u001b[0m\u001b[0;34m,\u001b[0m \u001b[0mperiod\u001b[0m \u001b[0;34m+\u001b[0m \u001b[0;36m1\u001b[0m\u001b[0;34m,\u001b[0m \u001b[0;36m1\u001b[0m\u001b[0;34m)\u001b[0m\u001b[0;34m\u001b[0m\u001b[0;34m\u001b[0m\u001b[0m\n\u001b[0;32m----> 5\u001b[0;31m     \u001b[0mmatrix\u001b[0m \u001b[0;34m=\u001b[0m \u001b[0mdf\u001b[0m\u001b[0;34m[\u001b[0m\u001b[0mi\u001b[0m \u001b[0;34m-\u001b[0m \u001b[0;36m20\u001b[0m \u001b[0;34m+\u001b[0m \u001b[0;36m1\u001b[0m\u001b[0;34m:\u001b[0m \u001b[0mi\u001b[0m \u001b[0;34m+\u001b[0m\u001b[0;36m1\u001b[0m\u001b[0;34m,\u001b[0m \u001b[0;36m3\u001b[0m\u001b[0;34m:\u001b[0m\u001b[0;36m4\u001b[0m\u001b[0;34m]\u001b[0m\u001b[0;34m\u001b[0m\u001b[0;34m\u001b[0m\u001b[0m\n\u001b[0m\u001b[1;32m      6\u001b[0m     \u001b[0mmatrix\u001b[0m \u001b[0;34m=\u001b[0m \u001b[0mnp\u001b[0m\u001b[0;34m.\u001b[0m\u001b[0mndarray\u001b[0m\u001b[0;34m.\u001b[0m\u001b[0mflatten\u001b[0m\u001b[0;34m(\u001b[0m\u001b[0mmatrix\u001b[0m\u001b[0;34m)\u001b[0m\u001b[0;34m\u001b[0m\u001b[0;34m\u001b[0m\u001b[0m\n\u001b[1;32m      7\u001b[0m     \u001b[0mmatrix\u001b[0m \u001b[0;34m=\u001b[0m \u001b[0mtotal\u001b[0m \u001b[0;34m*\u001b[0m \u001b[0mmatrix\u001b[0m\u001b[0;34m\u001b[0m\u001b[0;34m\u001b[0m\u001b[0m\n",
            "\u001b[0;32m/usr/local/lib/python3.7/dist-packages/pandas/core/frame.py\u001b[0m in \u001b[0;36m__getitem__\u001b[0;34m(self, key)\u001b[0m\n\u001b[1;32m   2904\u001b[0m             \u001b[0;32mif\u001b[0m \u001b[0mself\u001b[0m\u001b[0;34m.\u001b[0m\u001b[0mcolumns\u001b[0m\u001b[0;34m.\u001b[0m\u001b[0mnlevels\u001b[0m \u001b[0;34m>\u001b[0m \u001b[0;36m1\u001b[0m\u001b[0;34m:\u001b[0m\u001b[0;34m\u001b[0m\u001b[0;34m\u001b[0m\u001b[0m\n\u001b[1;32m   2905\u001b[0m                 \u001b[0;32mreturn\u001b[0m \u001b[0mself\u001b[0m\u001b[0;34m.\u001b[0m\u001b[0m_getitem_multilevel\u001b[0m\u001b[0;34m(\u001b[0m\u001b[0mkey\u001b[0m\u001b[0;34m)\u001b[0m\u001b[0;34m\u001b[0m\u001b[0;34m\u001b[0m\u001b[0m\n\u001b[0;32m-> 2906\u001b[0;31m             \u001b[0mindexer\u001b[0m \u001b[0;34m=\u001b[0m \u001b[0mself\u001b[0m\u001b[0;34m.\u001b[0m\u001b[0mcolumns\u001b[0m\u001b[0;34m.\u001b[0m\u001b[0mget_loc\u001b[0m\u001b[0;34m(\u001b[0m\u001b[0mkey\u001b[0m\u001b[0;34m)\u001b[0m\u001b[0;34m\u001b[0m\u001b[0;34m\u001b[0m\u001b[0m\n\u001b[0m\u001b[1;32m   2907\u001b[0m             \u001b[0;32mif\u001b[0m \u001b[0mis_integer\u001b[0m\u001b[0;34m(\u001b[0m\u001b[0mindexer\u001b[0m\u001b[0;34m)\u001b[0m\u001b[0;34m:\u001b[0m\u001b[0;34m\u001b[0m\u001b[0;34m\u001b[0m\u001b[0m\n\u001b[1;32m   2908\u001b[0m                 \u001b[0mindexer\u001b[0m \u001b[0;34m=\u001b[0m \u001b[0;34m[\u001b[0m\u001b[0mindexer\u001b[0m\u001b[0;34m]\u001b[0m\u001b[0;34m\u001b[0m\u001b[0;34m\u001b[0m\u001b[0m\n",
            "\u001b[0;32m/usr/local/lib/python3.7/dist-packages/pandas/core/indexes/base.py\u001b[0m in \u001b[0;36mget_loc\u001b[0;34m(self, key, method, tolerance)\u001b[0m\n\u001b[1;32m   2896\u001b[0m             \u001b[0mcasted_key\u001b[0m \u001b[0;34m=\u001b[0m \u001b[0mself\u001b[0m\u001b[0;34m.\u001b[0m\u001b[0m_maybe_cast_indexer\u001b[0m\u001b[0;34m(\u001b[0m\u001b[0mkey\u001b[0m\u001b[0;34m)\u001b[0m\u001b[0;34m\u001b[0m\u001b[0;34m\u001b[0m\u001b[0m\n\u001b[1;32m   2897\u001b[0m             \u001b[0;32mtry\u001b[0m\u001b[0;34m:\u001b[0m\u001b[0;34m\u001b[0m\u001b[0;34m\u001b[0m\u001b[0m\n\u001b[0;32m-> 2898\u001b[0;31m                 \u001b[0;32mreturn\u001b[0m \u001b[0mself\u001b[0m\u001b[0;34m.\u001b[0m\u001b[0m_engine\u001b[0m\u001b[0;34m.\u001b[0m\u001b[0mget_loc\u001b[0m\u001b[0;34m(\u001b[0m\u001b[0mcasted_key\u001b[0m\u001b[0;34m)\u001b[0m\u001b[0;34m\u001b[0m\u001b[0;34m\u001b[0m\u001b[0m\n\u001b[0m\u001b[1;32m   2899\u001b[0m             \u001b[0;32mexcept\u001b[0m \u001b[0mKeyError\u001b[0m \u001b[0;32mas\u001b[0m \u001b[0merr\u001b[0m\u001b[0;34m:\u001b[0m\u001b[0;34m\u001b[0m\u001b[0;34m\u001b[0m\u001b[0m\n\u001b[1;32m   2900\u001b[0m                 \u001b[0;32mraise\u001b[0m \u001b[0mKeyError\u001b[0m\u001b[0;34m(\u001b[0m\u001b[0mkey\u001b[0m\u001b[0;34m)\u001b[0m \u001b[0;32mfrom\u001b[0m \u001b[0merr\u001b[0m\u001b[0;34m\u001b[0m\u001b[0;34m\u001b[0m\u001b[0m\n",
            "\u001b[0;32mpandas/_libs/index.pyx\u001b[0m in \u001b[0;36mpandas._libs.index.IndexEngine.get_loc\u001b[0;34m()\u001b[0m\n",
            "\u001b[0;32mpandas/_libs/index.pyx\u001b[0m in \u001b[0;36mpandas._libs.index.IndexEngine.get_loc\u001b[0;34m()\u001b[0m\n",
            "\u001b[0;31mTypeError\u001b[0m: '(slice(-19, 1, None), slice(3, 4, None))' is an invalid key"
          ]
        }
      ]
    },
    {
      "cell_type": "markdown",
      "metadata": {
        "id": "cF-wE3JqS8Nw"
      },
      "source": [
        "# Exponential Moving Average (EMA)"
      ]
    },
    {
      "cell_type": "code",
      "metadata": {
        "id": "qFY6Pc90RZg_"
      },
      "source": [
        "ema_20 = df['high'].ewm(span=20).mean()"
      ],
      "execution_count": null,
      "outputs": []
    },
    {
      "cell_type": "code",
      "metadata": {
        "colab": {
          "base_uri": "https://localhost:8080/"
        },
        "id": "AmzOhiZbS0tC",
        "outputId": "c40a023f-97fb-40ed-8141-640bde44ac53"
      },
      "source": [
        "ema_20.head()"
      ],
      "execution_count": null,
      "outputs": [
        {
          "output_type": "execute_result",
          "data": {
            "text/plain": [
              "0    2111.900000\n",
              "1    2104.523750\n",
              "2    2101.944671\n",
              "3    2101.036853\n",
              "4    2101.306114\n",
              "Name: high, dtype: float64"
            ]
          },
          "metadata": {},
          "execution_count": 14
        }
      ]
    },
    {
      "cell_type": "code",
      "metadata": {
        "colab": {
          "base_uri": "https://localhost:8080/"
        },
        "id": "hNeyz2mfS4nv",
        "outputId": "26b9a4b3-6bb3-4494-a9ba-47a00220602c"
      },
      "source": [
        "ema_20"
      ],
      "execution_count": null,
      "outputs": [
        {
          "output_type": "execute_result",
          "data": {
            "text/plain": [
              "0        2111.900000\n",
              "1        2104.523750\n",
              "2        2101.944671\n",
              "3        2101.036853\n",
              "4        2101.306114\n",
              "            ...     \n",
              "35800    2090.202163\n",
              "35801    2089.963861\n",
              "35802    2089.714922\n",
              "35803    2089.384930\n",
              "35804    2089.253032\n",
              "Name: high, Length: 35805, dtype: float64"
            ]
          },
          "metadata": {},
          "execution_count": 15
        }
      ]
    },
    {
      "cell_type": "code",
      "metadata": {
        "id": "fNrZyj6STANJ"
      },
      "source": [
        "acc_ema = df['high'].copy()\n",
        "acc_ema.iloc[0:20] = sma_20[0:20]"
      ],
      "execution_count": null,
      "outputs": []
    },
    {
      "cell_type": "code",
      "metadata": {
        "colab": {
          "base_uri": "https://localhost:8080/"
        },
        "id": "R3BlVA4eUhRY",
        "outputId": "756b7d00-d496-4dbd-d81b-10ee49aa3800"
      },
      "source": [
        "acc_ema"
      ],
      "execution_count": null,
      "outputs": [
        {
          "output_type": "execute_result",
          "data": {
            "text/plain": [
              "0            NaN\n",
              "1            NaN\n",
              "2            NaN\n",
              "3            NaN\n",
              "4            NaN\n",
              "          ...   \n",
              "35800    2088.40\n",
              "35801    2087.70\n",
              "35802    2087.35\n",
              "35803    2086.25\n",
              "35804    2088.00\n",
              "Name: high, Length: 35805, dtype: float64"
            ]
          },
          "metadata": {},
          "execution_count": 28
        }
      ]
    },
    {
      "cell_type": "markdown",
      "metadata": {
        "id": "0FwxemvnahE2"
      },
      "source": [
        "# Rolling Moving Average"
      ]
    },
    {
      "cell_type": "code",
      "metadata": {
        "id": "cSprb9aNUmz6"
      },
      "source": [
        "rma_20 = df['close'].ewm(alpha = 1.0/20).mean()"
      ],
      "execution_count": null,
      "outputs": []
    },
    {
      "cell_type": "code",
      "metadata": {
        "colab": {
          "base_uri": "https://localhost:8080/"
        },
        "id": "jXoGchEIbEqL",
        "outputId": "55777b70-b247-4824-e16d-1ad16cd90ede"
      },
      "source": [
        "rma_20"
      ],
      "execution_count": null,
      "outputs": [
        {
          "output_type": "execute_result",
          "data": {
            "text/plain": [
              "date\n",
              "2021-03-01 09:15:00+05:30    2093.000000\n",
              "2021-03-01 09:16:00+05:30    2094.923077\n",
              "2021-03-01 09:17:00+05:30    2095.020158\n",
              "2021-03-01 09:18:00+05:30    2095.607736\n",
              "2021-03-01 09:19:00+05:30    2097.053738\n",
              "                                ...     \n",
              "2021-07-20 12:10:00+05:30    2090.489542\n",
              "2021-07-20 12:11:00+05:30    2090.310065\n",
              "2021-07-20 12:12:00+05:30    2090.057061\n",
              "2021-07-20 12:13:00+05:30    2089.866708\n",
              "2021-07-20 12:14:00+05:30    2089.733373\n",
              "Name: close, Length: 35805, dtype: float64"
            ]
          },
          "metadata": {},
          "execution_count": 16
        }
      ]
    },
    {
      "cell_type": "markdown",
      "metadata": {
        "id": "zDq1WbdnwLMC"
      },
      "source": [
        "# Moving average convergence divergence (MACD)"
      ]
    },
    {
      "cell_type": "code",
      "metadata": {
        "id": "JM-G0PS2wBHB"
      },
      "source": [
        "exp1 = df['close'].ewm(span=12, adjust=False).mean()\n",
        "exp2 = df['close'].ewm(span=26, adjust=False).mean()"
      ],
      "execution_count": null,
      "outputs": []
    },
    {
      "cell_type": "code",
      "metadata": {
        "id": "pj55uD4LzxpA"
      },
      "source": [
        "macd = exp1-exp2"
      ],
      "execution_count": null,
      "outputs": []
    },
    {
      "cell_type": "code",
      "metadata": {
        "colab": {
          "base_uri": "https://localhost:8080/"
        },
        "id": "swKUOs34z0zg",
        "outputId": "83fe6992-e4fd-488c-e0eb-b3af869a3d39"
      },
      "source": [
        "macd"
      ],
      "execution_count": null,
      "outputs": [
        {
          "output_type": "execute_result",
          "data": {
            "text/plain": [
              "date\n",
              "2021-03-01 09:15:00+05:30    0.000000\n",
              "2021-03-01 09:16:00+05:30    0.299145\n",
              "2021-03-01 09:17:00+05:30    0.406463\n",
              "2021-03-01 09:18:00+05:30    0.645455\n",
              "2021-03-01 09:19:00+05:30    1.220216\n",
              "                               ...   \n",
              "2021-07-20 12:10:00+05:30   -1.009154\n",
              "2021-07-20 12:11:00+05:30   -1.083374\n",
              "2021-07-20 12:12:00+05:30   -1.260802\n",
              "2021-07-20 12:13:00+05:30   -1.305671\n",
              "2021-07-20 12:14:00+05:30   -1.250163\n",
              "Name: close, Length: 35805, dtype: float64"
            ]
          },
          "metadata": {},
          "execution_count": 19
        }
      ]
    },
    {
      "cell_type": "markdown",
      "metadata": {
        "id": "kF-oX4JX4M0R"
      },
      "source": [
        "# Relative Strength Index"
      ]
    },
    {
      "cell_type": "code",
      "metadata": {
        "id": "-zDDYl2ez1lG"
      },
      "source": [
        ""
      ],
      "execution_count": null,
      "outputs": []
    },
    {
      "cell_type": "code",
      "metadata": {
        "id": "DGmed_qa40LV"
      },
      "source": [
        "periods = 14\n",
        "\n",
        "close_delta = df['close'].diff()\n",
        "\n",
        "up = close_delta.clip(lower=0)\n",
        "down = -1 * close_delta.clip(upper=0)\n",
        "\n",
        "ma_up = up.ewm(com = periods -1, adjust=True, min_periods = periods).mean()\n",
        "ma_down = down.ewm(com = periods -1, adjust=True, min_periods = periods).mean()\n",
        "rsi = ma_up / ma_down\n",
        "rsi = 100- (100/(1+rsi))"
      ],
      "execution_count": null,
      "outputs": []
    },
    {
      "cell_type": "code",
      "metadata": {
        "colab": {
          "base_uri": "https://localhost:8080/"
        },
        "id": "8ds6L1aT425d",
        "outputId": "2cb9565e-0205-4fbc-c551-de5894a5f707"
      },
      "source": [
        "rsi"
      ],
      "execution_count": null,
      "outputs": [
        {
          "output_type": "execute_result",
          "data": {
            "text/plain": [
              "0              NaN\n",
              "1              NaN\n",
              "2              NaN\n",
              "3              NaN\n",
              "4              NaN\n",
              "           ...    \n",
              "35800    37.290692\n",
              "35801    36.428591\n",
              "35802    31.287481\n",
              "35803    37.082889\n",
              "35804    42.080699\n",
              "Name: close, Length: 35805, dtype: float64"
            ]
          },
          "metadata": {},
          "execution_count": 59
        }
      ]
    },
    {
      "cell_type": "markdown",
      "metadata": {
        "id": "T9qcOyBM9NfV"
      },
      "source": [
        "# Bollinger Band"
      ]
    },
    {
      "cell_type": "code",
      "metadata": {
        "id": "8DYOyVEQ6L_W"
      },
      "source": [
        "sma_20\n",
        "std = df['close'].rolling(20).std()\n",
        "bollinger_up = sma_20 + std *2\n",
        "bollinger_down = sma_20 -std *2"
      ],
      "execution_count": null,
      "outputs": []
    },
    {
      "cell_type": "code",
      "metadata": {
        "colab": {
          "base_uri": "https://localhost:8080/"
        },
        "id": "gg07Cj4K-d-B",
        "outputId": "5b6b41ba-e7fa-4cd9-ffe3-45146bc10737"
      },
      "source": [
        "bollinger_up"
      ],
      "execution_count": null,
      "outputs": [
        {
          "output_type": "execute_result",
          "data": {
            "text/plain": [
              "0                NaN\n",
              "1                NaN\n",
              "2                NaN\n",
              "3                NaN\n",
              "4                NaN\n",
              "            ...     \n",
              "35800    2093.378430\n",
              "35801    2093.169728\n",
              "35802    2093.361597\n",
              "35803    2093.202244\n",
              "35804    2093.073389\n",
              "Length: 35805, dtype: float64"
            ]
          },
          "metadata": {},
          "execution_count": 61
        }
      ]
    },
    {
      "cell_type": "code",
      "metadata": {
        "colab": {
          "base_uri": "https://localhost:8080/"
        },
        "id": "wZTyX4cm-fxF",
        "outputId": "755d58b9-a6a6-49e2-dcf7-2ca3ecfc4e25"
      },
      "source": [
        "bollinger_down"
      ],
      "execution_count": null,
      "outputs": [
        {
          "output_type": "execute_result",
          "data": {
            "text/plain": [
              "0                NaN\n",
              "1                NaN\n",
              "2                NaN\n",
              "3                NaN\n",
              "4                NaN\n",
              "            ...     \n",
              "35800    2087.596570\n",
              "35801    2087.290272\n",
              "35802    2086.623403\n",
              "35803    2086.222756\n",
              "35804    2086.041611\n",
              "Length: 35805, dtype: float64"
            ]
          },
          "metadata": {},
          "execution_count": 62
        }
      ]
    },
    {
      "cell_type": "markdown",
      "metadata": {
        "id": "s3-yOoV2F5Ay"
      },
      "source": [
        "#Appending Frames"
      ]
    },
    {
      "cell_type": "code",
      "metadata": {
        "id": "WabJoNAH-iYg"
      },
      "source": [
        "df['SMA'] = sma_20"
      ],
      "execution_count": null,
      "outputs": []
    },
    {
      "cell_type": "code",
      "metadata": {
        "id": "Y-UsrWpzGCWi"
      },
      "source": [
        "df['EMA'] = ema_20"
      ],
      "execution_count": null,
      "outputs": []
    },
    {
      "cell_type": "code",
      "metadata": {
        "id": "_zM7sQ82GRLD"
      },
      "source": [
        "df['RMA'] = rma_20"
      ],
      "execution_count": null,
      "outputs": []
    },
    {
      "cell_type": "code",
      "metadata": {
        "id": "qXcGByz_GWPg"
      },
      "source": [
        "df['MACD'] = macd"
      ],
      "execution_count": null,
      "outputs": []
    },
    {
      "cell_type": "code",
      "metadata": {
        "id": "zEnVtKrnGaT6"
      },
      "source": [
        "df['rsi'] = rsi"
      ],
      "execution_count": null,
      "outputs": []
    },
    {
      "cell_type": "code",
      "metadata": {
        "id": "yYvKxiBjGhDU"
      },
      "source": [
        "df['Bollinger Up'] = bollinger_up\n",
        "df['Bollinger Down'] = bollinger_down"
      ],
      "execution_count": null,
      "outputs": []
    },
    {
      "cell_type": "markdown",
      "metadata": {
        "id": "6a5EXtG8GzXY"
      },
      "source": [
        "# Export df"
      ]
    },
    {
      "cell_type": "code",
      "metadata": {
        "id": "ENxQaGiYGyYd"
      },
      "source": [
        "df.to_csv('reliance_ma.csv',index=False)"
      ],
      "execution_count": null,
      "outputs": []
    },
    {
      "cell_type": "code",
      "metadata": {
        "id": "W40WbxebHV2r"
      },
      "source": [
        ""
      ],
      "execution_count": null,
      "outputs": []
    },
    {
      "cell_type": "markdown",
      "metadata": {
        "id": "JGkt0nRoIgf5"
      },
      "source": [
        "# Candle Conversion"
      ]
    },
    {
      "cell_type": "code",
      "metadata": {
        "colab": {
          "base_uri": "https://localhost:8080/",
          "height": 204
        },
        "id": "Fl9P4OouIi-w",
        "outputId": "2ed1a792-39e2-4f06-d5bc-4f96a21df599"
      },
      "source": [
        "df.head()"
      ],
      "execution_count": null,
      "outputs": [
        {
          "output_type": "execute_result",
          "data": {
            "text/html": [
              "<div>\n",
              "<style scoped>\n",
              "    .dataframe tbody tr th:only-of-type {\n",
              "        vertical-align: middle;\n",
              "    }\n",
              "\n",
              "    .dataframe tbody tr th {\n",
              "        vertical-align: top;\n",
              "    }\n",
              "\n",
              "    .dataframe thead th {\n",
              "        text-align: right;\n",
              "    }\n",
              "</style>\n",
              "<table border=\"1\" class=\"dataframe\">\n",
              "  <thead>\n",
              "    <tr style=\"text-align: right;\">\n",
              "      <th></th>\n",
              "      <th>date</th>\n",
              "      <th>open</th>\n",
              "      <th>high</th>\n",
              "      <th>low</th>\n",
              "      <th>close</th>\n",
              "      <th>volume</th>\n",
              "    </tr>\n",
              "  </thead>\n",
              "  <tbody>\n",
              "    <tr>\n",
              "      <th>0</th>\n",
              "      <td>2021-03-01 09:15:00+05:30</td>\n",
              "      <td>2110.20</td>\n",
              "      <td>2111.90</td>\n",
              "      <td>2093.00</td>\n",
              "      <td>2093.00</td>\n",
              "      <td>258626.0</td>\n",
              "    </tr>\n",
              "    <tr>\n",
              "      <th>1</th>\n",
              "      <td>2021-03-01 09:16:00+05:30</td>\n",
              "      <td>2092.35</td>\n",
              "      <td>2097.85</td>\n",
              "      <td>2088.80</td>\n",
              "      <td>2096.75</td>\n",
              "      <td>120495.0</td>\n",
              "    </tr>\n",
              "    <tr>\n",
              "      <th>2</th>\n",
              "      <td>2021-03-01 09:17:00+05:30</td>\n",
              "      <td>2097.50</td>\n",
              "      <td>2097.50</td>\n",
              "      <td>2091.10</td>\n",
              "      <td>2095.20</td>\n",
              "      <td>60153.0</td>\n",
              "    </tr>\n",
              "    <tr>\n",
              "      <th>3</th>\n",
              "      <td>2021-03-01 09:18:00+05:30</td>\n",
              "      <td>2095.75</td>\n",
              "      <td>2098.80</td>\n",
              "      <td>2095.75</td>\n",
              "      <td>2097.20</td>\n",
              "      <td>35057.0</td>\n",
              "    </tr>\n",
              "    <tr>\n",
              "      <th>4</th>\n",
              "      <td>2021-03-01 09:19:00+05:30</td>\n",
              "      <td>2097.00</td>\n",
              "      <td>2102.15</td>\n",
              "      <td>2096.80</td>\n",
              "      <td>2102.15</td>\n",
              "      <td>40434.0</td>\n",
              "    </tr>\n",
              "  </tbody>\n",
              "</table>\n",
              "</div>"
            ],
            "text/plain": [
              "                        date     open     high      low    close    volume\n",
              "0  2021-03-01 09:15:00+05:30  2110.20  2111.90  2093.00  2093.00  258626.0\n",
              "1  2021-03-01 09:16:00+05:30  2092.35  2097.85  2088.80  2096.75  120495.0\n",
              "2  2021-03-01 09:17:00+05:30  2097.50  2097.50  2091.10  2095.20   60153.0\n",
              "3  2021-03-01 09:18:00+05:30  2095.75  2098.80  2095.75  2097.20   35057.0\n",
              "4  2021-03-01 09:19:00+05:30  2097.00  2102.15  2096.80  2102.15   40434.0"
            ]
          },
          "metadata": {},
          "execution_count": 8
        }
      ]
    },
    {
      "cell_type": "code",
      "metadata": {
        "id": "UTrtVLVqJTrw"
      },
      "source": [
        "df['date'] = pd.to_datetime(df['date'])"
      ],
      "execution_count": null,
      "outputs": []
    },
    {
      "cell_type": "code",
      "metadata": {
        "colab": {
          "base_uri": "https://localhost:8080/"
        },
        "id": "lothnoFyJm3C",
        "outputId": "60f8ec26-764a-455c-b7f2-7bb88a48a6e3"
      },
      "source": [
        "df['date'].dt.date"
      ],
      "execution_count": null,
      "outputs": [
        {
          "output_type": "execute_result",
          "data": {
            "text/plain": [
              "0        2021-03-01\n",
              "1        2021-03-01\n",
              "2        2021-03-01\n",
              "3        2021-03-01\n",
              "4        2021-03-01\n",
              "            ...    \n",
              "35800    2021-07-20\n",
              "35801    2021-07-20\n",
              "35802    2021-07-20\n",
              "35803    2021-07-20\n",
              "35804    2021-07-20\n",
              "Name: date, Length: 35805, dtype: object"
            ]
          },
          "metadata": {},
          "execution_count": 50
        }
      ]
    },
    {
      "cell_type": "code",
      "metadata": {
        "colab": {
          "base_uri": "https://localhost:8080/"
        },
        "id": "6hrWMKxgQ5QG",
        "outputId": "95c0c1f8-d9ee-4a7f-dcde-e311b69c0ce7"
      },
      "source": [
        "df.time = pd.to_datetime(df.date, format=\"%Y%m%d%H%M\")"
      ],
      "execution_count": null,
      "outputs": [
        {
          "output_type": "stream",
          "name": "stderr",
          "text": [
            "/usr/local/lib/python3.7/dist-packages/ipykernel_launcher.py:1: UserWarning: Pandas doesn't allow columns to be created via a new attribute name - see https://pandas.pydata.org/pandas-docs/stable/indexing.html#attribute-access\n",
            "  \"\"\"Entry point for launching an IPython kernel.\n"
          ]
        }
      ]
    },
    {
      "cell_type": "code",
      "metadata": {
        "id": "Yfjpmd0IReCI"
      },
      "source": [
        "df = df.set_index(\"date\")"
      ],
      "execution_count": null,
      "outputs": []
    },
    {
      "cell_type": "code",
      "metadata": {
        "id": "zR8jNV23SBzT",
        "colab": {
          "base_uri": "https://localhost:8080/"
        },
        "outputId": "489a1028-dab6-4807-8155-4dd5fdb5915d"
      },
      "source": [
        "t = df.groupby(pd.Grouper(freq='15Min', origin='09:15:00+05:30')).agg({\"open\": \"first\", \n",
        "                                             \"close\": \"last\", \n",
        "                                             \"low\": \"min\", \n",
        "                                             \"high\": \"max\"})\n",
        "t.columns = [\"open\", \"close\", \"low\", \"high\"]\n",
        "print(t)"
      ],
      "execution_count": null,
      "outputs": [
        {
          "output_type": "stream",
          "name": "stdout",
          "text": [
            "                              open    close      low     high\n",
            "date                                                         \n",
            "2021-03-01 09:15:00+05:30  2110.20  2101.35  2088.80  2111.90\n",
            "2021-03-01 09:30:00+05:30  2101.40  2100.60  2096.05  2105.60\n",
            "2021-03-01 09:45:00+05:30  2102.00  2096.35  2091.30  2103.00\n",
            "2021-03-01 10:00:00+05:30  2096.20  2089.00  2087.60  2102.00\n",
            "2021-03-01 10:15:00+05:30  2089.85  2097.00  2089.85  2098.00\n",
            "...                            ...      ...      ...      ...\n",
            "2021-07-20 11:00:00+05:30  2098.15  2089.60  2085.35  2099.95\n",
            "2021-07-20 11:15:00+05:30  2089.60  2092.25  2087.95  2094.40\n",
            "2021-07-20 11:30:00+05:30  2092.45  2091.10  2090.00  2094.70\n",
            "2021-07-20 11:45:00+05:30  2091.00  2090.50  2088.15  2093.75\n",
            "2021-07-20 12:00:00+05:30  2090.40  2087.20  2084.00  2090.50\n",
            "\n",
            "[13548 rows x 4 columns]\n"
          ]
        }
      ]
    },
    {
      "cell_type": "code",
      "metadata": {
        "colab": {
          "base_uri": "https://localhost:8080/"
        },
        "id": "uQC8FoUjBnD_",
        "outputId": "389ce0b4-5068-4264-a60c-86ae8883b670"
      },
      "source": [
        "t.isna().sum()"
      ],
      "execution_count": null,
      "outputs": [
        {
          "output_type": "execute_result",
          "data": {
            "text/plain": [
              "open     0\n",
              "close    0\n",
              "low      0\n",
              "high     0\n",
              "dtype: int64"
            ]
          },
          "metadata": {},
          "execution_count": 22
        }
      ]
    },
    {
      "cell_type": "code",
      "metadata": {
        "id": "mkii6oFHUa6P"
      },
      "source": [
        "t.dropna(inplace=True)"
      ],
      "execution_count": null,
      "outputs": []
    },
    {
      "cell_type": "code",
      "metadata": {
        "id": "QNJisHHXVh7Z"
      },
      "source": [
        "t.to_csv('reliance_15M.csv')"
      ],
      "execution_count": null,
      "outputs": []
    },
    {
      "cell_type": "code",
      "metadata": {
        "colab": {
          "base_uri": "https://localhost:8080/",
          "height": 235
        },
        "id": "KRgQ-PUTALnX",
        "outputId": "7b98fc80-6025-49fe-9354-199655c74f8d"
      },
      "source": [
        "t.head()"
      ],
      "execution_count": null,
      "outputs": [
        {
          "output_type": "execute_result",
          "data": {
            "text/html": [
              "<div>\n",
              "<style scoped>\n",
              "    .dataframe tbody tr th:only-of-type {\n",
              "        vertical-align: middle;\n",
              "    }\n",
              "\n",
              "    .dataframe tbody tr th {\n",
              "        vertical-align: top;\n",
              "    }\n",
              "\n",
              "    .dataframe thead th {\n",
              "        text-align: right;\n",
              "    }\n",
              "</style>\n",
              "<table border=\"1\" class=\"dataframe\">\n",
              "  <thead>\n",
              "    <tr style=\"text-align: right;\">\n",
              "      <th></th>\n",
              "      <th>open</th>\n",
              "      <th>close</th>\n",
              "      <th>low</th>\n",
              "      <th>high</th>\n",
              "    </tr>\n",
              "    <tr>\n",
              "      <th>date</th>\n",
              "      <th></th>\n",
              "      <th></th>\n",
              "      <th></th>\n",
              "      <th></th>\n",
              "    </tr>\n",
              "  </thead>\n",
              "  <tbody>\n",
              "    <tr>\n",
              "      <th>2021-03-01 09:15:00+05:30</th>\n",
              "      <td>2110.20</td>\n",
              "      <td>2101.35</td>\n",
              "      <td>2088.80</td>\n",
              "      <td>2111.9</td>\n",
              "    </tr>\n",
              "    <tr>\n",
              "      <th>2021-03-01 09:30:00+05:30</th>\n",
              "      <td>2101.40</td>\n",
              "      <td>2100.60</td>\n",
              "      <td>2096.05</td>\n",
              "      <td>2105.6</td>\n",
              "    </tr>\n",
              "    <tr>\n",
              "      <th>2021-03-01 09:45:00+05:30</th>\n",
              "      <td>2102.00</td>\n",
              "      <td>2096.35</td>\n",
              "      <td>2091.30</td>\n",
              "      <td>2103.0</td>\n",
              "    </tr>\n",
              "    <tr>\n",
              "      <th>2021-03-01 10:00:00+05:30</th>\n",
              "      <td>2096.20</td>\n",
              "      <td>2089.00</td>\n",
              "      <td>2087.60</td>\n",
              "      <td>2102.0</td>\n",
              "    </tr>\n",
              "    <tr>\n",
              "      <th>2021-03-01 10:15:00+05:30</th>\n",
              "      <td>2089.85</td>\n",
              "      <td>2097.00</td>\n",
              "      <td>2089.85</td>\n",
              "      <td>2098.0</td>\n",
              "    </tr>\n",
              "  </tbody>\n",
              "</table>\n",
              "</div>"
            ],
            "text/plain": [
              "                              open    close      low    high\n",
              "date                                                        \n",
              "2021-03-01 09:15:00+05:30  2110.20  2101.35  2088.80  2111.9\n",
              "2021-03-01 09:30:00+05:30  2101.40  2100.60  2096.05  2105.6\n",
              "2021-03-01 09:45:00+05:30  2102.00  2096.35  2091.30  2103.0\n",
              "2021-03-01 10:00:00+05:30  2096.20  2089.00  2087.60  2102.0\n",
              "2021-03-01 10:15:00+05:30  2089.85  2097.00  2089.85  2098.0"
            ]
          },
          "metadata": {},
          "execution_count": 14
        }
      ]
    },
    {
      "cell_type": "markdown",
      "metadata": {
        "id": "qPRXS3rJ4LiN"
      },
      "source": [
        "# Candle Conversion 25M"
      ]
    },
    {
      "cell_type": "code",
      "metadata": {
        "id": "aBLS92lqQxUd"
      },
      "source": [
        "s1 = pd.to_datetime(df['date'])"
      ],
      "execution_count": null,
      "outputs": []
    },
    {
      "cell_type": "code",
      "metadata": {
        "id": "Z29ATf7SR0O3"
      },
      "source": [
        "s1 = s1.dt.date"
      ],
      "execution_count": null,
      "outputs": []
    },
    {
      "cell_type": "code",
      "metadata": {
        "colab": {
          "base_uri": "https://localhost:8080/"
        },
        "id": "5eXvTYdOWbFy",
        "outputId": "4417920f-81cf-485d-9883-9f1489538a1b"
      },
      "source": [
        "s1"
      ],
      "execution_count": null,
      "outputs": [
        {
          "output_type": "execute_result",
          "data": {
            "text/plain": [
              "0        2021-03-01\n",
              "1        2021-03-01\n",
              "2        2021-03-01\n",
              "3        2021-03-01\n",
              "4        2021-03-01\n",
              "            ...    \n",
              "35800    2021-07-20\n",
              "35801    2021-07-20\n",
              "35802    2021-07-20\n",
              "35803    2021-07-20\n",
              "35804    2021-07-20\n",
              "Name: date, Length: 35805, dtype: object"
            ]
          },
          "metadata": {},
          "execution_count": 22
        }
      ]
    },
    {
      "cell_type": "code",
      "metadata": {
        "colab": {
          "base_uri": "https://localhost:8080/",
          "height": 419
        },
        "id": "vspDGmoJMHRu",
        "outputId": "4e25a9d5-d1f9-422f-c10b-3fd2aa7802f8"
      },
      "source": [
        "df"
      ],
      "execution_count": null,
      "outputs": [
        {
          "output_type": "execute_result",
          "data": {
            "text/html": [
              "<div>\n",
              "<style scoped>\n",
              "    .dataframe tbody tr th:only-of-type {\n",
              "        vertical-align: middle;\n",
              "    }\n",
              "\n",
              "    .dataframe tbody tr th {\n",
              "        vertical-align: top;\n",
              "    }\n",
              "\n",
              "    .dataframe thead th {\n",
              "        text-align: right;\n",
              "    }\n",
              "</style>\n",
              "<table border=\"1\" class=\"dataframe\">\n",
              "  <thead>\n",
              "    <tr style=\"text-align: right;\">\n",
              "      <th></th>\n",
              "      <th>date</th>\n",
              "      <th>open</th>\n",
              "      <th>high</th>\n",
              "      <th>low</th>\n",
              "      <th>close</th>\n",
              "      <th>volume</th>\n",
              "    </tr>\n",
              "  </thead>\n",
              "  <tbody>\n",
              "    <tr>\n",
              "      <th>0</th>\n",
              "      <td>2021-03-01 09:15:00+05:30</td>\n",
              "      <td>2110.20</td>\n",
              "      <td>2111.90</td>\n",
              "      <td>2093.00</td>\n",
              "      <td>2093.00</td>\n",
              "      <td>258626</td>\n",
              "    </tr>\n",
              "    <tr>\n",
              "      <th>1</th>\n",
              "      <td>2021-03-01 09:16:00+05:30</td>\n",
              "      <td>2092.35</td>\n",
              "      <td>2097.85</td>\n",
              "      <td>2088.80</td>\n",
              "      <td>2096.75</td>\n",
              "      <td>120495</td>\n",
              "    </tr>\n",
              "    <tr>\n",
              "      <th>2</th>\n",
              "      <td>2021-03-01 09:17:00+05:30</td>\n",
              "      <td>2097.50</td>\n",
              "      <td>2097.50</td>\n",
              "      <td>2091.10</td>\n",
              "      <td>2095.20</td>\n",
              "      <td>60153</td>\n",
              "    </tr>\n",
              "    <tr>\n",
              "      <th>3</th>\n",
              "      <td>2021-03-01 09:18:00+05:30</td>\n",
              "      <td>2095.75</td>\n",
              "      <td>2098.80</td>\n",
              "      <td>2095.75</td>\n",
              "      <td>2097.20</td>\n",
              "      <td>35057</td>\n",
              "    </tr>\n",
              "    <tr>\n",
              "      <th>4</th>\n",
              "      <td>2021-03-01 09:19:00+05:30</td>\n",
              "      <td>2097.00</td>\n",
              "      <td>2102.15</td>\n",
              "      <td>2096.80</td>\n",
              "      <td>2102.15</td>\n",
              "      <td>40434</td>\n",
              "    </tr>\n",
              "    <tr>\n",
              "      <th>...</th>\n",
              "      <td>...</td>\n",
              "      <td>...</td>\n",
              "      <td>...</td>\n",
              "      <td>...</td>\n",
              "      <td>...</td>\n",
              "      <td>...</td>\n",
              "    </tr>\n",
              "    <tr>\n",
              "      <th>35800</th>\n",
              "      <td>2021-07-20 12:10:00+05:30</td>\n",
              "      <td>2088.40</td>\n",
              "      <td>2088.40</td>\n",
              "      <td>2087.10</td>\n",
              "      <td>2087.15</td>\n",
              "      <td>4951</td>\n",
              "    </tr>\n",
              "    <tr>\n",
              "      <th>35801</th>\n",
              "      <td>2021-07-20 12:11:00+05:30</td>\n",
              "      <td>2087.10</td>\n",
              "      <td>2087.70</td>\n",
              "      <td>2085.65</td>\n",
              "      <td>2086.90</td>\n",
              "      <td>19915</td>\n",
              "    </tr>\n",
              "    <tr>\n",
              "      <th>35802</th>\n",
              "      <td>2021-07-20 12:12:00+05:30</td>\n",
              "      <td>2086.40</td>\n",
              "      <td>2087.35</td>\n",
              "      <td>2085.25</td>\n",
              "      <td>2085.25</td>\n",
              "      <td>9461</td>\n",
              "    </tr>\n",
              "    <tr>\n",
              "      <th>35803</th>\n",
              "      <td>2021-07-20 12:13:00+05:30</td>\n",
              "      <td>2085.05</td>\n",
              "      <td>2086.25</td>\n",
              "      <td>2084.00</td>\n",
              "      <td>2086.25</td>\n",
              "      <td>17818</td>\n",
              "    </tr>\n",
              "    <tr>\n",
              "      <th>35804</th>\n",
              "      <td>2021-07-20 12:14:00+05:30</td>\n",
              "      <td>2085.70</td>\n",
              "      <td>2088.00</td>\n",
              "      <td>2085.70</td>\n",
              "      <td>2087.20</td>\n",
              "      <td>4438</td>\n",
              "    </tr>\n",
              "  </tbody>\n",
              "</table>\n",
              "<p>35805 rows × 6 columns</p>\n",
              "</div>"
            ],
            "text/plain": [
              "                           date     open     high      low    close  volume\n",
              "0     2021-03-01 09:15:00+05:30  2110.20  2111.90  2093.00  2093.00  258626\n",
              "1     2021-03-01 09:16:00+05:30  2092.35  2097.85  2088.80  2096.75  120495\n",
              "2     2021-03-01 09:17:00+05:30  2097.50  2097.50  2091.10  2095.20   60153\n",
              "3     2021-03-01 09:18:00+05:30  2095.75  2098.80  2095.75  2097.20   35057\n",
              "4     2021-03-01 09:19:00+05:30  2097.00  2102.15  2096.80  2102.15   40434\n",
              "...                         ...      ...      ...      ...      ...     ...\n",
              "35800 2021-07-20 12:10:00+05:30  2088.40  2088.40  2087.10  2087.15    4951\n",
              "35801 2021-07-20 12:11:00+05:30  2087.10  2087.70  2085.65  2086.90   19915\n",
              "35802 2021-07-20 12:12:00+05:30  2086.40  2087.35  2085.25  2085.25    9461\n",
              "35803 2021-07-20 12:13:00+05:30  2085.05  2086.25  2084.00  2086.25   17818\n",
              "35804 2021-07-20 12:14:00+05:30  2085.70  2088.00  2085.70  2087.20    4438\n",
              "\n",
              "[35805 rows x 6 columns]"
            ]
          },
          "metadata": {},
          "execution_count": 23
        }
      ]
    },
    {
      "cell_type": "code",
      "metadata": {
        "id": "IinkfrOtSmV8"
      },
      "source": [
        "s1 = s1.drop_duplicates(keep='first', inplace=False)"
      ],
      "execution_count": null,
      "outputs": []
    },
    {
      "cell_type": "code",
      "metadata": {
        "colab": {
          "base_uri": "https://localhost:8080/"
        },
        "id": "TWpbA6quSx6c",
        "outputId": "79674b0e-4f01-45fe-ab02-099db56ea038"
      },
      "source": [
        "s1.shape"
      ],
      "execution_count": null,
      "outputs": [
        {
          "output_type": "execute_result",
          "data": {
            "text/plain": [
              "(96,)"
            ]
          },
          "metadata": {},
          "execution_count": 25
        }
      ]
    },
    {
      "cell_type": "code",
      "metadata": {
        "id": "5-n3cMjLUDZg"
      },
      "source": [
        "s1 = s1.to_numpy()"
      ],
      "execution_count": null,
      "outputs": []
    },
    {
      "cell_type": "code",
      "metadata": {
        "colab": {
          "base_uri": "https://localhost:8080/"
        },
        "id": "Pasi6UBxW6kf",
        "outputId": "a84d1faf-7ccd-4e58-ee58-91cef2572cec"
      },
      "source": [
        "s1"
      ],
      "execution_count": null,
      "outputs": [
        {
          "output_type": "execute_result",
          "data": {
            "text/plain": [
              "array([datetime.date(2021, 3, 1), datetime.date(2021, 3, 2),\n",
              "       datetime.date(2021, 3, 3), datetime.date(2021, 3, 4),\n",
              "       datetime.date(2021, 3, 5), datetime.date(2021, 3, 8),\n",
              "       datetime.date(2021, 3, 9), datetime.date(2021, 3, 10),\n",
              "       datetime.date(2021, 3, 12), datetime.date(2021, 3, 15),\n",
              "       datetime.date(2021, 3, 16), datetime.date(2021, 3, 17),\n",
              "       datetime.date(2021, 3, 18), datetime.date(2021, 3, 19),\n",
              "       datetime.date(2021, 3, 22), datetime.date(2021, 3, 23),\n",
              "       datetime.date(2021, 3, 24), datetime.date(2021, 3, 25),\n",
              "       datetime.date(2021, 3, 26), datetime.date(2021, 3, 30),\n",
              "       datetime.date(2021, 3, 31), datetime.date(2021, 4, 1),\n",
              "       datetime.date(2021, 4, 5), datetime.date(2021, 4, 6),\n",
              "       datetime.date(2021, 4, 7), datetime.date(2021, 4, 8),\n",
              "       datetime.date(2021, 4, 9), datetime.date(2021, 4, 12),\n",
              "       datetime.date(2021, 4, 13), datetime.date(2021, 4, 15),\n",
              "       datetime.date(2021, 4, 16), datetime.date(2021, 4, 19),\n",
              "       datetime.date(2021, 4, 20), datetime.date(2021, 4, 22),\n",
              "       datetime.date(2021, 4, 23), datetime.date(2021, 4, 26),\n",
              "       datetime.date(2021, 4, 27), datetime.date(2021, 4, 28),\n",
              "       datetime.date(2021, 4, 29), datetime.date(2021, 4, 30),\n",
              "       datetime.date(2021, 5, 3), datetime.date(2021, 5, 4),\n",
              "       datetime.date(2021, 5, 5), datetime.date(2021, 5, 6),\n",
              "       datetime.date(2021, 5, 7), datetime.date(2021, 5, 10),\n",
              "       datetime.date(2021, 5, 11), datetime.date(2021, 5, 12),\n",
              "       datetime.date(2021, 5, 14), datetime.date(2021, 5, 17),\n",
              "       datetime.date(2021, 5, 18), datetime.date(2021, 5, 19),\n",
              "       datetime.date(2021, 5, 20), datetime.date(2021, 5, 21),\n",
              "       datetime.date(2021, 5, 24), datetime.date(2021, 5, 25),\n",
              "       datetime.date(2021, 5, 26), datetime.date(2021, 5, 27),\n",
              "       datetime.date(2021, 5, 28), datetime.date(2021, 5, 31),\n",
              "       datetime.date(2021, 6, 1), datetime.date(2021, 6, 2),\n",
              "       datetime.date(2021, 6, 3), datetime.date(2021, 6, 4),\n",
              "       datetime.date(2021, 6, 7), datetime.date(2021, 6, 8),\n",
              "       datetime.date(2021, 6, 9), datetime.date(2021, 6, 10),\n",
              "       datetime.date(2021, 6, 11), datetime.date(2021, 6, 14),\n",
              "       datetime.date(2021, 6, 15), datetime.date(2021, 6, 16),\n",
              "       datetime.date(2021, 6, 17), datetime.date(2021, 6, 18),\n",
              "       datetime.date(2021, 6, 21), datetime.date(2021, 6, 22),\n",
              "       datetime.date(2021, 6, 23), datetime.date(2021, 6, 24),\n",
              "       datetime.date(2021, 6, 25), datetime.date(2021, 6, 28),\n",
              "       datetime.date(2021, 6, 29), datetime.date(2021, 6, 30),\n",
              "       datetime.date(2021, 7, 1), datetime.date(2021, 7, 2),\n",
              "       datetime.date(2021, 7, 5), datetime.date(2021, 7, 6),\n",
              "       datetime.date(2021, 7, 7), datetime.date(2021, 7, 8),\n",
              "       datetime.date(2021, 7, 9), datetime.date(2021, 7, 12),\n",
              "       datetime.date(2021, 7, 13), datetime.date(2021, 7, 14),\n",
              "       datetime.date(2021, 7, 15), datetime.date(2021, 7, 16),\n",
              "       datetime.date(2021, 7, 19), datetime.date(2021, 7, 20)],\n",
              "      dtype=object)"
            ]
          },
          "metadata": {},
          "execution_count": 27
        }
      ]
    },
    {
      "cell_type": "code",
      "metadata": {
        "colab": {
          "base_uri": "https://localhost:8080/"
        },
        "id": "QSyfnoeDT4bf",
        "outputId": "8de78dba-6d1a-4d37-8859-06f71fe716dc"
      },
      "source": [
        "print(s1[2])"
      ],
      "execution_count": null,
      "outputs": [
        {
          "output_type": "stream",
          "name": "stdout",
          "text": [
            "2021-03-03\n"
          ]
        }
      ]
    },
    {
      "cell_type": "code",
      "metadata": {
        "colab": {
          "base_uri": "https://localhost:8080/"
        },
        "id": "OuysH2yAY1Q4",
        "outputId": "24ecc655-9684-4f5d-a377-3b5455921561"
      },
      "source": [
        "#pd.to_datetime(df.date, format=\"%Y%m%d%H%M\")\n",
        "print(df['date'].dt.date[0])"
      ],
      "execution_count": null,
      "outputs": [
        {
          "output_type": "stream",
          "name": "stdout",
          "text": [
            "2021-03-01\n"
          ]
        }
      ]
    },
    {
      "cell_type": "code",
      "metadata": {
        "colab": {
          "base_uri": "https://localhost:8080/"
        },
        "id": "RLGb5zaqbhNX",
        "outputId": "9bca2d82-519b-4dd2-cb75-e5777880ba0a"
      },
      "source": [
        "print(df['date'][0])"
      ],
      "execution_count": null,
      "outputs": [
        {
          "output_type": "stream",
          "name": "stdout",
          "text": [
            "2021-03-01 09:15:00+05:30\n"
          ]
        }
      ]
    },
    {
      "cell_type": "code",
      "metadata": {
        "colab": {
          "base_uri": "https://localhost:8080/"
        },
        "id": "HgpeagtVnMva",
        "outputId": "8bb5fba5-44e7-4de9-c6e6-09de607e7e8e"
      },
      "source": [
        "s1[0]"
      ],
      "execution_count": null,
      "outputs": [
        {
          "output_type": "execute_result",
          "data": {
            "text/plain": [
              "datetime.date(2021, 3, 1)"
            ]
          },
          "metadata": {},
          "execution_count": 69
        }
      ]
    },
    {
      "cell_type": "code",
      "metadata": {
        "colab": {
          "base_uri": "https://localhost:8080/"
        },
        "id": "Y2rEBlSqTWc7",
        "outputId": "d6a8c925-68e2-483d-aa05-fd61d72c6a51"
      },
      "source": [
        "df_new = pd.DataFrame()\n",
        "for i in range(len(s1)-1):\n",
        "    filtered_df = df.loc[(df['date'].dt.date >= s1[i]) & (df['date'].dt.date < s1[i+1])]\n",
        "    filtered_df = filtered_df.set_index(\"date\")\n",
        "    t1 = filtered_df.groupby(pd.Grouper(freq='25Min',origin='start')).agg({\"open\":\"first\",\n",
        "                                               \"close\":\"last\",\n",
        "                                               \"low\":\"min\",\n",
        "                                               \"high\":\"max\"})\n",
        "    t1.coulumns = ['open','close','low','high']\n",
        "    df_new = df_new.append(t1)\n",
        "\n",
        "\n",
        "      \n",
        "  "
      ],
      "execution_count": null,
      "outputs": [
        {
          "output_type": "stream",
          "name": "stderr",
          "text": [
            "/usr/local/lib/python3.7/dist-packages/ipykernel_launcher.py:9: UserWarning: Pandas doesn't allow columns to be created via a new attribute name - see https://pandas.pydata.org/pandas-docs/stable/indexing.html#attribute-access\n",
            "  if __name__ == '__main__':\n"
          ]
        }
      ]
    },
    {
      "cell_type": "code",
      "metadata": {
        "colab": {
          "base_uri": "https://localhost:8080/",
          "height": 700
        },
        "id": "p3PPKrOVQSqQ",
        "outputId": "738bff35-c13c-4f0e-bbf7-e4d2a4295465"
      },
      "source": [
        "df_new.head(20)"
      ],
      "execution_count": null,
      "outputs": [
        {
          "output_type": "execute_result",
          "data": {
            "text/html": [
              "<div>\n",
              "<style scoped>\n",
              "    .dataframe tbody tr th:only-of-type {\n",
              "        vertical-align: middle;\n",
              "    }\n",
              "\n",
              "    .dataframe tbody tr th {\n",
              "        vertical-align: top;\n",
              "    }\n",
              "\n",
              "    .dataframe thead th {\n",
              "        text-align: right;\n",
              "    }\n",
              "</style>\n",
              "<table border=\"1\" class=\"dataframe\">\n",
              "  <thead>\n",
              "    <tr style=\"text-align: right;\">\n",
              "      <th></th>\n",
              "      <th>open</th>\n",
              "      <th>close</th>\n",
              "      <th>low</th>\n",
              "      <th>high</th>\n",
              "    </tr>\n",
              "    <tr>\n",
              "      <th>date</th>\n",
              "      <th></th>\n",
              "      <th></th>\n",
              "      <th></th>\n",
              "      <th></th>\n",
              "    </tr>\n",
              "  </thead>\n",
              "  <tbody>\n",
              "    <tr>\n",
              "      <th>2021-03-01 09:15:00+05:30</th>\n",
              "      <td>2110.20</td>\n",
              "      <td>2104.30</td>\n",
              "      <td>2088.80</td>\n",
              "      <td>2111.90</td>\n",
              "    </tr>\n",
              "    <tr>\n",
              "      <th>2021-03-01 09:40:00+05:30</th>\n",
              "      <td>2104.30</td>\n",
              "      <td>2099.10</td>\n",
              "      <td>2091.30</td>\n",
              "      <td>2105.60</td>\n",
              "    </tr>\n",
              "    <tr>\n",
              "      <th>2021-03-01 10:05:00+05:30</th>\n",
              "      <td>2099.80</td>\n",
              "      <td>2097.00</td>\n",
              "      <td>2087.60</td>\n",
              "      <td>2101.60</td>\n",
              "    </tr>\n",
              "    <tr>\n",
              "      <th>2021-03-01 10:30:00+05:30</th>\n",
              "      <td>2097.00</td>\n",
              "      <td>2100.85</td>\n",
              "      <td>2096.55</td>\n",
              "      <td>2108.90</td>\n",
              "    </tr>\n",
              "    <tr>\n",
              "      <th>2021-03-01 10:55:00+05:30</th>\n",
              "      <td>2100.85</td>\n",
              "      <td>2102.15</td>\n",
              "      <td>2100.05</td>\n",
              "      <td>2107.00</td>\n",
              "    </tr>\n",
              "    <tr>\n",
              "      <th>2021-03-01 11:20:00+05:30</th>\n",
              "      <td>2102.45</td>\n",
              "      <td>2078.50</td>\n",
              "      <td>2077.65</td>\n",
              "      <td>2102.45</td>\n",
              "    </tr>\n",
              "    <tr>\n",
              "      <th>2021-03-01 11:45:00+05:30</th>\n",
              "      <td>2078.00</td>\n",
              "      <td>2081.40</td>\n",
              "      <td>2077.30</td>\n",
              "      <td>2087.60</td>\n",
              "    </tr>\n",
              "    <tr>\n",
              "      <th>2021-03-01 12:10:00+05:30</th>\n",
              "      <td>2081.00</td>\n",
              "      <td>2066.90</td>\n",
              "      <td>2062.70</td>\n",
              "      <td>2083.80</td>\n",
              "    </tr>\n",
              "    <tr>\n",
              "      <th>2021-03-01 12:35:00+05:30</th>\n",
              "      <td>2066.05</td>\n",
              "      <td>2075.65</td>\n",
              "      <td>2064.00</td>\n",
              "      <td>2077.90</td>\n",
              "    </tr>\n",
              "    <tr>\n",
              "      <th>2021-03-01 13:00:00+05:30</th>\n",
              "      <td>2075.80</td>\n",
              "      <td>2080.00</td>\n",
              "      <td>2074.30</td>\n",
              "      <td>2085.00</td>\n",
              "    </tr>\n",
              "    <tr>\n",
              "      <th>2021-03-01 13:25:00+05:30</th>\n",
              "      <td>2080.00</td>\n",
              "      <td>2085.50</td>\n",
              "      <td>2077.85</td>\n",
              "      <td>2090.00</td>\n",
              "    </tr>\n",
              "    <tr>\n",
              "      <th>2021-03-01 13:50:00+05:30</th>\n",
              "      <td>2085.40</td>\n",
              "      <td>2096.40</td>\n",
              "      <td>2080.00</td>\n",
              "      <td>2100.50</td>\n",
              "    </tr>\n",
              "    <tr>\n",
              "      <th>2021-03-01 14:15:00+05:30</th>\n",
              "      <td>2097.00</td>\n",
              "      <td>2101.20</td>\n",
              "      <td>2091.60</td>\n",
              "      <td>2103.90</td>\n",
              "    </tr>\n",
              "    <tr>\n",
              "      <th>2021-03-01 14:40:00+05:30</th>\n",
              "      <td>2101.20</td>\n",
              "      <td>2097.45</td>\n",
              "      <td>2089.30</td>\n",
              "      <td>2102.00</td>\n",
              "    </tr>\n",
              "    <tr>\n",
              "      <th>2021-03-01 15:05:00+05:30</th>\n",
              "      <td>2096.55</td>\n",
              "      <td>2103.05</td>\n",
              "      <td>2095.55</td>\n",
              "      <td>2107.00</td>\n",
              "    </tr>\n",
              "    <tr>\n",
              "      <th>2021-03-02 09:15:00+05:30</th>\n",
              "      <td>2122.00</td>\n",
              "      <td>2112.90</td>\n",
              "      <td>2106.00</td>\n",
              "      <td>2122.00</td>\n",
              "    </tr>\n",
              "    <tr>\n",
              "      <th>2021-03-02 09:40:00+05:30</th>\n",
              "      <td>2112.50</td>\n",
              "      <td>2127.75</td>\n",
              "      <td>2112.05</td>\n",
              "      <td>2130.00</td>\n",
              "    </tr>\n",
              "    <tr>\n",
              "      <th>2021-03-02 10:05:00+05:30</th>\n",
              "      <td>2128.40</td>\n",
              "      <td>2117.60</td>\n",
              "      <td>2116.75</td>\n",
              "      <td>2128.90</td>\n",
              "    </tr>\n",
              "    <tr>\n",
              "      <th>2021-03-02 10:30:00+05:30</th>\n",
              "      <td>2117.75</td>\n",
              "      <td>2114.10</td>\n",
              "      <td>2108.60</td>\n",
              "      <td>2119.65</td>\n",
              "    </tr>\n",
              "    <tr>\n",
              "      <th>2021-03-02 10:55:00+05:30</th>\n",
              "      <td>2114.00</td>\n",
              "      <td>2102.00</td>\n",
              "      <td>2101.50</td>\n",
              "      <td>2117.00</td>\n",
              "    </tr>\n",
              "  </tbody>\n",
              "</table>\n",
              "</div>"
            ],
            "text/plain": [
              "                              open    close      low     high\n",
              "date                                                         \n",
              "2021-03-01 09:15:00+05:30  2110.20  2104.30  2088.80  2111.90\n",
              "2021-03-01 09:40:00+05:30  2104.30  2099.10  2091.30  2105.60\n",
              "2021-03-01 10:05:00+05:30  2099.80  2097.00  2087.60  2101.60\n",
              "2021-03-01 10:30:00+05:30  2097.00  2100.85  2096.55  2108.90\n",
              "2021-03-01 10:55:00+05:30  2100.85  2102.15  2100.05  2107.00\n",
              "2021-03-01 11:20:00+05:30  2102.45  2078.50  2077.65  2102.45\n",
              "2021-03-01 11:45:00+05:30  2078.00  2081.40  2077.30  2087.60\n",
              "2021-03-01 12:10:00+05:30  2081.00  2066.90  2062.70  2083.80\n",
              "2021-03-01 12:35:00+05:30  2066.05  2075.65  2064.00  2077.90\n",
              "2021-03-01 13:00:00+05:30  2075.80  2080.00  2074.30  2085.00\n",
              "2021-03-01 13:25:00+05:30  2080.00  2085.50  2077.85  2090.00\n",
              "2021-03-01 13:50:00+05:30  2085.40  2096.40  2080.00  2100.50\n",
              "2021-03-01 14:15:00+05:30  2097.00  2101.20  2091.60  2103.90\n",
              "2021-03-01 14:40:00+05:30  2101.20  2097.45  2089.30  2102.00\n",
              "2021-03-01 15:05:00+05:30  2096.55  2103.05  2095.55  2107.00\n",
              "2021-03-02 09:15:00+05:30  2122.00  2112.90  2106.00  2122.00\n",
              "2021-03-02 09:40:00+05:30  2112.50  2127.75  2112.05  2130.00\n",
              "2021-03-02 10:05:00+05:30  2128.40  2117.60  2116.75  2128.90\n",
              "2021-03-02 10:30:00+05:30  2117.75  2114.10  2108.60  2119.65\n",
              "2021-03-02 10:55:00+05:30  2114.00  2102.00  2101.50  2117.00"
            ]
          },
          "metadata": {},
          "execution_count": 60
        }
      ]
    },
    {
      "cell_type": "code",
      "metadata": {
        "id": "JGn5n8heMy-b"
      },
      "source": [
        "i = 0 \n",
        "filtered_df = df.loc[(df['date'].dt.date >= s1[i]) & (df['date'].dt.date < s1[i+1])]"
      ],
      "execution_count": null,
      "outputs": []
    },
    {
      "cell_type": "code",
      "metadata": {
        "colab": {
          "base_uri": "https://localhost:8080/",
          "height": 419
        },
        "id": "Os7bFxf9NT-T",
        "outputId": "50e82a6c-a61c-4bdc-f8d2-055a661e10e6"
      },
      "source": [
        "filtered_df"
      ],
      "execution_count": null,
      "outputs": [
        {
          "output_type": "execute_result",
          "data": {
            "text/html": [
              "<div>\n",
              "<style scoped>\n",
              "    .dataframe tbody tr th:only-of-type {\n",
              "        vertical-align: middle;\n",
              "    }\n",
              "\n",
              "    .dataframe tbody tr th {\n",
              "        vertical-align: top;\n",
              "    }\n",
              "\n",
              "    .dataframe thead th {\n",
              "        text-align: right;\n",
              "    }\n",
              "</style>\n",
              "<table border=\"1\" class=\"dataframe\">\n",
              "  <thead>\n",
              "    <tr style=\"text-align: right;\">\n",
              "      <th></th>\n",
              "      <th>date</th>\n",
              "      <th>open</th>\n",
              "      <th>high</th>\n",
              "      <th>low</th>\n",
              "      <th>close</th>\n",
              "      <th>volume</th>\n",
              "    </tr>\n",
              "  </thead>\n",
              "  <tbody>\n",
              "    <tr>\n",
              "      <th>0</th>\n",
              "      <td>2021-03-01 09:15:00+05:30</td>\n",
              "      <td>2110.20</td>\n",
              "      <td>2111.90</td>\n",
              "      <td>2093.00</td>\n",
              "      <td>2093.00</td>\n",
              "      <td>258626</td>\n",
              "    </tr>\n",
              "    <tr>\n",
              "      <th>1</th>\n",
              "      <td>2021-03-01 09:16:00+05:30</td>\n",
              "      <td>2092.35</td>\n",
              "      <td>2097.85</td>\n",
              "      <td>2088.80</td>\n",
              "      <td>2096.75</td>\n",
              "      <td>120495</td>\n",
              "    </tr>\n",
              "    <tr>\n",
              "      <th>2</th>\n",
              "      <td>2021-03-01 09:17:00+05:30</td>\n",
              "      <td>2097.50</td>\n",
              "      <td>2097.50</td>\n",
              "      <td>2091.10</td>\n",
              "      <td>2095.20</td>\n",
              "      <td>60153</td>\n",
              "    </tr>\n",
              "    <tr>\n",
              "      <th>3</th>\n",
              "      <td>2021-03-01 09:18:00+05:30</td>\n",
              "      <td>2095.75</td>\n",
              "      <td>2098.80</td>\n",
              "      <td>2095.75</td>\n",
              "      <td>2097.20</td>\n",
              "      <td>35057</td>\n",
              "    </tr>\n",
              "    <tr>\n",
              "      <th>4</th>\n",
              "      <td>2021-03-01 09:19:00+05:30</td>\n",
              "      <td>2097.00</td>\n",
              "      <td>2102.15</td>\n",
              "      <td>2096.80</td>\n",
              "      <td>2102.15</td>\n",
              "      <td>40434</td>\n",
              "    </tr>\n",
              "    <tr>\n",
              "      <th>...</th>\n",
              "      <td>...</td>\n",
              "      <td>...</td>\n",
              "      <td>...</td>\n",
              "      <td>...</td>\n",
              "      <td>...</td>\n",
              "      <td>...</td>\n",
              "    </tr>\n",
              "    <tr>\n",
              "      <th>370</th>\n",
              "      <td>2021-03-01 15:25:00+05:30</td>\n",
              "      <td>2105.85</td>\n",
              "      <td>2106.20</td>\n",
              "      <td>2103.10</td>\n",
              "      <td>2103.20</td>\n",
              "      <td>81306</td>\n",
              "    </tr>\n",
              "    <tr>\n",
              "      <th>371</th>\n",
              "      <td>2021-03-01 15:26:00+05:30</td>\n",
              "      <td>2103.20</td>\n",
              "      <td>2104.85</td>\n",
              "      <td>2103.00</td>\n",
              "      <td>2104.40</td>\n",
              "      <td>59636</td>\n",
              "    </tr>\n",
              "    <tr>\n",
              "      <th>372</th>\n",
              "      <td>2021-03-01 15:27:00+05:30</td>\n",
              "      <td>2103.70</td>\n",
              "      <td>2104.90</td>\n",
              "      <td>2103.55</td>\n",
              "      <td>2103.75</td>\n",
              "      <td>85456</td>\n",
              "    </tr>\n",
              "    <tr>\n",
              "      <th>373</th>\n",
              "      <td>2021-03-01 15:28:00+05:30</td>\n",
              "      <td>2103.95</td>\n",
              "      <td>2104.00</td>\n",
              "      <td>2102.40</td>\n",
              "      <td>2103.00</td>\n",
              "      <td>72860</td>\n",
              "    </tr>\n",
              "    <tr>\n",
              "      <th>374</th>\n",
              "      <td>2021-03-01 15:29:00+05:30</td>\n",
              "      <td>2103.00</td>\n",
              "      <td>2104.95</td>\n",
              "      <td>2102.80</td>\n",
              "      <td>2103.05</td>\n",
              "      <td>45092</td>\n",
              "    </tr>\n",
              "  </tbody>\n",
              "</table>\n",
              "<p>375 rows × 6 columns</p>\n",
              "</div>"
            ],
            "text/plain": [
              "                         date     open     high      low    close  volume\n",
              "0   2021-03-01 09:15:00+05:30  2110.20  2111.90  2093.00  2093.00  258626\n",
              "1   2021-03-01 09:16:00+05:30  2092.35  2097.85  2088.80  2096.75  120495\n",
              "2   2021-03-01 09:17:00+05:30  2097.50  2097.50  2091.10  2095.20   60153\n",
              "3   2021-03-01 09:18:00+05:30  2095.75  2098.80  2095.75  2097.20   35057\n",
              "4   2021-03-01 09:19:00+05:30  2097.00  2102.15  2096.80  2102.15   40434\n",
              "..                        ...      ...      ...      ...      ...     ...\n",
              "370 2021-03-01 15:25:00+05:30  2105.85  2106.20  2103.10  2103.20   81306\n",
              "371 2021-03-01 15:26:00+05:30  2103.20  2104.85  2103.00  2104.40   59636\n",
              "372 2021-03-01 15:27:00+05:30  2103.70  2104.90  2103.55  2103.75   85456\n",
              "373 2021-03-01 15:28:00+05:30  2103.95  2104.00  2102.40  2103.00   72860\n",
              "374 2021-03-01 15:29:00+05:30  2103.00  2104.95  2102.80  2103.05   45092\n",
              "\n",
              "[375 rows x 6 columns]"
            ]
          },
          "metadata": {},
          "execution_count": 35
        }
      ]
    },
    {
      "cell_type": "code",
      "metadata": {
        "id": "ryjNDqBFOhWF"
      },
      "source": [
        "filtered_df = filtered_df.set_index(\"date\")"
      ],
      "execution_count": null,
      "outputs": []
    },
    {
      "cell_type": "code",
      "metadata": {
        "colab": {
          "base_uri": "https://localhost:8080/"
        },
        "id": "ZaxCHl0AOS3W",
        "outputId": "2e9a2477-9ced-497d-f94d-43f21958ca37"
      },
      "source": [
        "t1 = filtered_df.groupby(pd.Grouper(freq='25Min',origin='start')).agg({\"open\":\"first\",\n",
        "                                               \"close\":\"last\",\n",
        "                                               \"low\":\"min\",\n",
        "                                               \"high\":\"max\"})\n",
        "t1.coulumns = ['open','close','low','high']"
      ],
      "execution_count": null,
      "outputs": [
        {
          "output_type": "stream",
          "name": "stderr",
          "text": [
            "/usr/local/lib/python3.7/dist-packages/ipykernel_launcher.py:5: UserWarning: Pandas doesn't allow columns to be created via a new attribute name - see https://pandas.pydata.org/pandas-docs/stable/indexing.html#attribute-access\n",
            "  \"\"\"\n"
          ]
        }
      ]
    },
    {
      "cell_type": "code",
      "metadata": {
        "colab": {
          "base_uri": "https://localhost:8080/",
          "height": 545
        },
        "id": "dfd81j2MOmX4",
        "outputId": "885c1e4c-a212-443b-901b-ae5e0c5bcedf"
      },
      "source": [
        "t1"
      ],
      "execution_count": null,
      "outputs": [
        {
          "output_type": "execute_result",
          "data": {
            "text/html": [
              "<div>\n",
              "<style scoped>\n",
              "    .dataframe tbody tr th:only-of-type {\n",
              "        vertical-align: middle;\n",
              "    }\n",
              "\n",
              "    .dataframe tbody tr th {\n",
              "        vertical-align: top;\n",
              "    }\n",
              "\n",
              "    .dataframe thead th {\n",
              "        text-align: right;\n",
              "    }\n",
              "</style>\n",
              "<table border=\"1\" class=\"dataframe\">\n",
              "  <thead>\n",
              "    <tr style=\"text-align: right;\">\n",
              "      <th></th>\n",
              "      <th>open</th>\n",
              "      <th>close</th>\n",
              "      <th>low</th>\n",
              "      <th>high</th>\n",
              "    </tr>\n",
              "    <tr>\n",
              "      <th>date</th>\n",
              "      <th></th>\n",
              "      <th></th>\n",
              "      <th></th>\n",
              "      <th></th>\n",
              "    </tr>\n",
              "  </thead>\n",
              "  <tbody>\n",
              "    <tr>\n",
              "      <th>2021-03-01 09:15:00+05:30</th>\n",
              "      <td>2110.20</td>\n",
              "      <td>2104.30</td>\n",
              "      <td>2088.80</td>\n",
              "      <td>2111.90</td>\n",
              "    </tr>\n",
              "    <tr>\n",
              "      <th>2021-03-01 09:40:00+05:30</th>\n",
              "      <td>2104.30</td>\n",
              "      <td>2099.10</td>\n",
              "      <td>2091.30</td>\n",
              "      <td>2105.60</td>\n",
              "    </tr>\n",
              "    <tr>\n",
              "      <th>2021-03-01 10:05:00+05:30</th>\n",
              "      <td>2099.80</td>\n",
              "      <td>2097.00</td>\n",
              "      <td>2087.60</td>\n",
              "      <td>2101.60</td>\n",
              "    </tr>\n",
              "    <tr>\n",
              "      <th>2021-03-01 10:30:00+05:30</th>\n",
              "      <td>2097.00</td>\n",
              "      <td>2100.85</td>\n",
              "      <td>2096.55</td>\n",
              "      <td>2108.90</td>\n",
              "    </tr>\n",
              "    <tr>\n",
              "      <th>2021-03-01 10:55:00+05:30</th>\n",
              "      <td>2100.85</td>\n",
              "      <td>2102.15</td>\n",
              "      <td>2100.05</td>\n",
              "      <td>2107.00</td>\n",
              "    </tr>\n",
              "    <tr>\n",
              "      <th>2021-03-01 11:20:00+05:30</th>\n",
              "      <td>2102.45</td>\n",
              "      <td>2078.50</td>\n",
              "      <td>2077.65</td>\n",
              "      <td>2102.45</td>\n",
              "    </tr>\n",
              "    <tr>\n",
              "      <th>2021-03-01 11:45:00+05:30</th>\n",
              "      <td>2078.00</td>\n",
              "      <td>2081.40</td>\n",
              "      <td>2077.30</td>\n",
              "      <td>2087.60</td>\n",
              "    </tr>\n",
              "    <tr>\n",
              "      <th>2021-03-01 12:10:00+05:30</th>\n",
              "      <td>2081.00</td>\n",
              "      <td>2066.90</td>\n",
              "      <td>2062.70</td>\n",
              "      <td>2083.80</td>\n",
              "    </tr>\n",
              "    <tr>\n",
              "      <th>2021-03-01 12:35:00+05:30</th>\n",
              "      <td>2066.05</td>\n",
              "      <td>2075.65</td>\n",
              "      <td>2064.00</td>\n",
              "      <td>2077.90</td>\n",
              "    </tr>\n",
              "    <tr>\n",
              "      <th>2021-03-01 13:00:00+05:30</th>\n",
              "      <td>2075.80</td>\n",
              "      <td>2080.00</td>\n",
              "      <td>2074.30</td>\n",
              "      <td>2085.00</td>\n",
              "    </tr>\n",
              "    <tr>\n",
              "      <th>2021-03-01 13:25:00+05:30</th>\n",
              "      <td>2080.00</td>\n",
              "      <td>2085.50</td>\n",
              "      <td>2077.85</td>\n",
              "      <td>2090.00</td>\n",
              "    </tr>\n",
              "    <tr>\n",
              "      <th>2021-03-01 13:50:00+05:30</th>\n",
              "      <td>2085.40</td>\n",
              "      <td>2096.40</td>\n",
              "      <td>2080.00</td>\n",
              "      <td>2100.50</td>\n",
              "    </tr>\n",
              "    <tr>\n",
              "      <th>2021-03-01 14:15:00+05:30</th>\n",
              "      <td>2097.00</td>\n",
              "      <td>2101.20</td>\n",
              "      <td>2091.60</td>\n",
              "      <td>2103.90</td>\n",
              "    </tr>\n",
              "    <tr>\n",
              "      <th>2021-03-01 14:40:00+05:30</th>\n",
              "      <td>2101.20</td>\n",
              "      <td>2097.45</td>\n",
              "      <td>2089.30</td>\n",
              "      <td>2102.00</td>\n",
              "    </tr>\n",
              "    <tr>\n",
              "      <th>2021-03-01 15:05:00+05:30</th>\n",
              "      <td>2096.55</td>\n",
              "      <td>2103.05</td>\n",
              "      <td>2095.55</td>\n",
              "      <td>2107.00</td>\n",
              "    </tr>\n",
              "  </tbody>\n",
              "</table>\n",
              "</div>"
            ],
            "text/plain": [
              "                              open    close      low     high\n",
              "date                                                         \n",
              "2021-03-01 09:15:00+05:30  2110.20  2104.30  2088.80  2111.90\n",
              "2021-03-01 09:40:00+05:30  2104.30  2099.10  2091.30  2105.60\n",
              "2021-03-01 10:05:00+05:30  2099.80  2097.00  2087.60  2101.60\n",
              "2021-03-01 10:30:00+05:30  2097.00  2100.85  2096.55  2108.90\n",
              "2021-03-01 10:55:00+05:30  2100.85  2102.15  2100.05  2107.00\n",
              "2021-03-01 11:20:00+05:30  2102.45  2078.50  2077.65  2102.45\n",
              "2021-03-01 11:45:00+05:30  2078.00  2081.40  2077.30  2087.60\n",
              "2021-03-01 12:10:00+05:30  2081.00  2066.90  2062.70  2083.80\n",
              "2021-03-01 12:35:00+05:30  2066.05  2075.65  2064.00  2077.90\n",
              "2021-03-01 13:00:00+05:30  2075.80  2080.00  2074.30  2085.00\n",
              "2021-03-01 13:25:00+05:30  2080.00  2085.50  2077.85  2090.00\n",
              "2021-03-01 13:50:00+05:30  2085.40  2096.40  2080.00  2100.50\n",
              "2021-03-01 14:15:00+05:30  2097.00  2101.20  2091.60  2103.90\n",
              "2021-03-01 14:40:00+05:30  2101.20  2097.45  2089.30  2102.00\n",
              "2021-03-01 15:05:00+05:30  2096.55  2103.05  2095.55  2107.00"
            ]
          },
          "metadata": {},
          "execution_count": 39
        }
      ]
    },
    {
      "cell_type": "code",
      "metadata": {
        "id": "YbYGvpp-MgVf"
      },
      "source": [
        "start_day = '09:15:00+05:30'\n",
        "end_day = '15:29:00+05:30'"
      ],
      "execution_count": null,
      "outputs": []
    },
    {
      "cell_type": "code",
      "metadata": {
        "id": "SkV_LDYkMP5Q"
      },
      "source": [
        "for i"
      ],
      "execution_count": null,
      "outputs": []
    },
    {
      "cell_type": "code",
      "metadata": {
        "colab": {
          "base_uri": "https://localhost:8080/",
          "height": 556
        },
        "id": "VmOi0o7W337N",
        "outputId": "9dd5760a-3187-4e20-a135-a173281181ec"
      },
      "source": [
        "t1 = df.groupby(pd.Grouper(freq='25Min',origin='start')).agg({\"open\":\"first\",\n",
        "                                               \"close\":\"last\",\n",
        "                                               \"low\":\"min\",\n",
        "                                               \"high\":\"max\"})\n",
        "t1.coulumns = ['open','close','low','high']"
      ],
      "execution_count": null,
      "outputs": [
        {
          "output_type": "error",
          "ename": "ValueError",
          "evalue": "ignored",
          "traceback": [
            "\u001b[0;31m---------------------------------------------------------------------------\u001b[0m",
            "\u001b[0;31mTypeError\u001b[0m                                 Traceback (most recent call last)",
            "\u001b[0;32m/usr/local/lib/python3.7/dist-packages/pandas/core/resample.py\u001b[0m in \u001b[0;36m__init__\u001b[0;34m(self, freq, closed, label, how, axis, fill_method, limit, loffset, kind, convention, base, origin, offset, **kwargs)\u001b[0m\n\u001b[1;32m   1369\u001b[0m             \u001b[0;32mtry\u001b[0m\u001b[0;34m:\u001b[0m\u001b[0;34m\u001b[0m\u001b[0;34m\u001b[0m\u001b[0m\n\u001b[0;32m-> 1370\u001b[0;31m                 \u001b[0mself\u001b[0m\u001b[0;34m.\u001b[0m\u001b[0morigin\u001b[0m \u001b[0;34m=\u001b[0m \u001b[0mTimestamp\u001b[0m\u001b[0;34m(\u001b[0m\u001b[0morigin\u001b[0m\u001b[0;34m)\u001b[0m\u001b[0;34m\u001b[0m\u001b[0;34m\u001b[0m\u001b[0m\n\u001b[0m\u001b[1;32m   1371\u001b[0m             \u001b[0;32mexcept\u001b[0m \u001b[0mException\u001b[0m \u001b[0;32mas\u001b[0m \u001b[0me\u001b[0m\u001b[0;34m:\u001b[0m\u001b[0;34m\u001b[0m\u001b[0;34m\u001b[0m\u001b[0m\n",
            "\u001b[0;32mpandas/_libs/tslibs/timestamps.pyx\u001b[0m in \u001b[0;36mpandas._libs.tslibs.timestamps.Timestamp.__new__\u001b[0;34m()\u001b[0m\n",
            "\u001b[0;32mpandas/_libs/tslibs/conversion.pyx\u001b[0m in \u001b[0;36mpandas._libs.tslibs.conversion.convert_to_tsobject\u001b[0;34m()\u001b[0m\n",
            "\u001b[0;31mTypeError\u001b[0m: Cannot convert input [('start', 'end')] of type <class 'tuple'> to Timestamp",
            "\nThe above exception was the direct cause of the following exception:\n",
            "\u001b[0;31mValueError\u001b[0m                                Traceback (most recent call last)",
            "\u001b[0;32m<ipython-input-58-f5c8ef0ee9b8>\u001b[0m in \u001b[0;36m<module>\u001b[0;34m()\u001b[0m\n\u001b[0;32m----> 1\u001b[0;31m t1 = df.groupby(pd.Grouper(freq='25Min',origin=('start','end'))).agg({\"open\":\"first\",\n\u001b[0m\u001b[1;32m      2\u001b[0m                                                \u001b[0;34m\"close\"\u001b[0m\u001b[0;34m:\u001b[0m\u001b[0;34m\"last\"\u001b[0m\u001b[0;34m,\u001b[0m\u001b[0;34m\u001b[0m\u001b[0;34m\u001b[0m\u001b[0m\n\u001b[1;32m      3\u001b[0m                                                \u001b[0;34m\"low\"\u001b[0m\u001b[0;34m:\u001b[0m\u001b[0;34m\"min\"\u001b[0m\u001b[0;34m,\u001b[0m\u001b[0;34m\u001b[0m\u001b[0;34m\u001b[0m\u001b[0m\n\u001b[1;32m      4\u001b[0m                                                \"high\":\"max\"})\n\u001b[1;32m      5\u001b[0m \u001b[0mt1\u001b[0m\u001b[0;34m.\u001b[0m\u001b[0mcoulumns\u001b[0m \u001b[0;34m=\u001b[0m \u001b[0;34m[\u001b[0m\u001b[0;34m'open'\u001b[0m\u001b[0;34m,\u001b[0m\u001b[0;34m'close'\u001b[0m\u001b[0;34m,\u001b[0m\u001b[0;34m'low'\u001b[0m\u001b[0;34m,\u001b[0m\u001b[0;34m'high'\u001b[0m\u001b[0;34m]\u001b[0m\u001b[0;34m\u001b[0m\u001b[0;34m\u001b[0m\u001b[0m\n",
            "\u001b[0;32m/usr/local/lib/python3.7/dist-packages/pandas/core/resample.py\u001b[0m in \u001b[0;36m__init__\u001b[0;34m(self, freq, closed, label, how, axis, fill_method, limit, loffset, kind, convention, base, origin, offset, **kwargs)\u001b[0m\n\u001b[1;32m   1373\u001b[0m                     \u001b[0;34m\"'origin' should be equal to 'epoch', 'start', 'start_day' or \"\u001b[0m\u001b[0;34m\u001b[0m\u001b[0;34m\u001b[0m\u001b[0m\n\u001b[1;32m   1374\u001b[0m                     \u001b[0;34mf\"should be a Timestamp convertible type. Got '{origin}' instead.\"\u001b[0m\u001b[0;34m\u001b[0m\u001b[0;34m\u001b[0m\u001b[0m\n\u001b[0;32m-> 1375\u001b[0;31m                 ) from e\n\u001b[0m\u001b[1;32m   1376\u001b[0m \u001b[0;34m\u001b[0m\u001b[0m\n\u001b[1;32m   1377\u001b[0m         \u001b[0;32mtry\u001b[0m\u001b[0;34m:\u001b[0m\u001b[0;34m\u001b[0m\u001b[0;34m\u001b[0m\u001b[0m\n",
            "\u001b[0;31mValueError\u001b[0m: 'origin' should be equal to 'epoch', 'start', 'start_day' or should be a Timestamp convertible type. Got '('start', 'end')' instead."
          ]
        }
      ]
    },
    {
      "cell_type": "code",
      "metadata": {
        "colab": {
          "base_uri": "https://localhost:8080/",
          "height": 450
        },
        "id": "2eJBeRdjIWYM",
        "outputId": "9f430ba4-7b19-49a2-bbf0-826e414856a3"
      },
      "source": [
        "t1"
      ],
      "execution_count": null,
      "outputs": [
        {
          "output_type": "execute_result",
          "data": {
            "text/html": [
              "<div>\n",
              "<style scoped>\n",
              "    .dataframe tbody tr th:only-of-type {\n",
              "        vertical-align: middle;\n",
              "    }\n",
              "\n",
              "    .dataframe tbody tr th {\n",
              "        vertical-align: top;\n",
              "    }\n",
              "\n",
              "    .dataframe thead th {\n",
              "        text-align: right;\n",
              "    }\n",
              "</style>\n",
              "<table border=\"1\" class=\"dataframe\">\n",
              "  <thead>\n",
              "    <tr style=\"text-align: right;\">\n",
              "      <th></th>\n",
              "      <th>open</th>\n",
              "      <th>close</th>\n",
              "      <th>low</th>\n",
              "      <th>high</th>\n",
              "    </tr>\n",
              "    <tr>\n",
              "      <th>date</th>\n",
              "      <th></th>\n",
              "      <th></th>\n",
              "      <th></th>\n",
              "      <th></th>\n",
              "    </tr>\n",
              "  </thead>\n",
              "  <tbody>\n",
              "    <tr>\n",
              "      <th>2021-03-01 09:15:00+05:30</th>\n",
              "      <td>2110.20</td>\n",
              "      <td>2104.30</td>\n",
              "      <td>2088.80</td>\n",
              "      <td>2111.90</td>\n",
              "    </tr>\n",
              "    <tr>\n",
              "      <th>2021-03-01 09:40:00+05:30</th>\n",
              "      <td>2104.30</td>\n",
              "      <td>2099.10</td>\n",
              "      <td>2091.30</td>\n",
              "      <td>2105.60</td>\n",
              "    </tr>\n",
              "    <tr>\n",
              "      <th>2021-03-01 10:05:00+05:30</th>\n",
              "      <td>2099.80</td>\n",
              "      <td>2097.00</td>\n",
              "      <td>2087.60</td>\n",
              "      <td>2101.60</td>\n",
              "    </tr>\n",
              "    <tr>\n",
              "      <th>2021-03-01 10:30:00+05:30</th>\n",
              "      <td>2097.00</td>\n",
              "      <td>2100.85</td>\n",
              "      <td>2096.55</td>\n",
              "      <td>2108.90</td>\n",
              "    </tr>\n",
              "    <tr>\n",
              "      <th>2021-03-01 10:55:00+05:30</th>\n",
              "      <td>2100.85</td>\n",
              "      <td>2102.15</td>\n",
              "      <td>2100.05</td>\n",
              "      <td>2107.00</td>\n",
              "    </tr>\n",
              "    <tr>\n",
              "      <th>...</th>\n",
              "      <td>...</td>\n",
              "      <td>...</td>\n",
              "      <td>...</td>\n",
              "      <td>...</td>\n",
              "    </tr>\n",
              "    <tr>\n",
              "      <th>2021-07-20 10:15:00+05:30</th>\n",
              "      <td>2102.20</td>\n",
              "      <td>2097.00</td>\n",
              "      <td>2096.15</td>\n",
              "      <td>2102.95</td>\n",
              "    </tr>\n",
              "    <tr>\n",
              "      <th>2021-07-20 10:40:00+05:30</th>\n",
              "      <td>2097.00</td>\n",
              "      <td>2097.30</td>\n",
              "      <td>2095.50</td>\n",
              "      <td>2100.00</td>\n",
              "    </tr>\n",
              "    <tr>\n",
              "      <th>2021-07-20 11:05:00+05:30</th>\n",
              "      <td>2097.30</td>\n",
              "      <td>2092.25</td>\n",
              "      <td>2085.35</td>\n",
              "      <td>2099.25</td>\n",
              "    </tr>\n",
              "    <tr>\n",
              "      <th>2021-07-20 11:30:00+05:30</th>\n",
              "      <td>2092.45</td>\n",
              "      <td>2090.20</td>\n",
              "      <td>2088.15</td>\n",
              "      <td>2094.70</td>\n",
              "    </tr>\n",
              "    <tr>\n",
              "      <th>2021-07-20 11:55:00+05:30</th>\n",
              "      <td>2090.10</td>\n",
              "      <td>2087.20</td>\n",
              "      <td>2084.00</td>\n",
              "      <td>2092.00</td>\n",
              "    </tr>\n",
              "  </tbody>\n",
              "</table>\n",
              "<p>8129 rows × 4 columns</p>\n",
              "</div>"
            ],
            "text/plain": [
              "                              open    close      low     high\n",
              "date                                                         \n",
              "2021-03-01 09:15:00+05:30  2110.20  2104.30  2088.80  2111.90\n",
              "2021-03-01 09:40:00+05:30  2104.30  2099.10  2091.30  2105.60\n",
              "2021-03-01 10:05:00+05:30  2099.80  2097.00  2087.60  2101.60\n",
              "2021-03-01 10:30:00+05:30  2097.00  2100.85  2096.55  2108.90\n",
              "2021-03-01 10:55:00+05:30  2100.85  2102.15  2100.05  2107.00\n",
              "...                            ...      ...      ...      ...\n",
              "2021-07-20 10:15:00+05:30  2102.20  2097.00  2096.15  2102.95\n",
              "2021-07-20 10:40:00+05:30  2097.00  2097.30  2095.50  2100.00\n",
              "2021-07-20 11:05:00+05:30  2097.30  2092.25  2085.35  2099.25\n",
              "2021-07-20 11:30:00+05:30  2092.45  2090.20  2088.15  2094.70\n",
              "2021-07-20 11:55:00+05:30  2090.10  2087.20  2084.00  2092.00\n",
              "\n",
              "[8129 rows x 4 columns]"
            ]
          },
          "metadata": {},
          "execution_count": 55
        }
      ]
    },
    {
      "cell_type": "code",
      "metadata": {
        "colab": {
          "base_uri": "https://localhost:8080/"
        },
        "id": "gFcJ-gy5CxHl",
        "outputId": "1ba0c995-6af7-4bc3-d44a-9d708f5e41c1"
      },
      "source": [
        "t1.isna().sum()"
      ],
      "execution_count": null,
      "outputs": [
        {
          "output_type": "execute_result",
          "data": {
            "text/plain": [
              "open     0\n",
              "close    0\n",
              "low      0\n",
              "high     0\n",
              "dtype: int64"
            ]
          },
          "metadata": {},
          "execution_count": 40
        }
      ]
    },
    {
      "cell_type": "code",
      "metadata": {
        "id": "mk2stdq4C0ra"
      },
      "source": [
        "t1.dropna(inplace=True)"
      ],
      "execution_count": null,
      "outputs": []
    },
    {
      "cell_type": "code",
      "metadata": {
        "colab": {
          "base_uri": "https://localhost:8080/",
          "height": 235
        },
        "id": "6uNZzhGi5E69",
        "outputId": "b23fe7b5-b47d-4d3b-f1c6-49bebdda6adc"
      },
      "source": [
        "t1.head()"
      ],
      "execution_count": null,
      "outputs": [
        {
          "output_type": "execute_result",
          "data": {
            "text/html": [
              "<div>\n",
              "<style scoped>\n",
              "    .dataframe tbody tr th:only-of-type {\n",
              "        vertical-align: middle;\n",
              "    }\n",
              "\n",
              "    .dataframe tbody tr th {\n",
              "        vertical-align: top;\n",
              "    }\n",
              "\n",
              "    .dataframe thead th {\n",
              "        text-align: right;\n",
              "    }\n",
              "</style>\n",
              "<table border=\"1\" class=\"dataframe\">\n",
              "  <thead>\n",
              "    <tr style=\"text-align: right;\">\n",
              "      <th></th>\n",
              "      <th>open</th>\n",
              "      <th>close</th>\n",
              "      <th>low</th>\n",
              "      <th>high</th>\n",
              "    </tr>\n",
              "    <tr>\n",
              "      <th>date</th>\n",
              "      <th></th>\n",
              "      <th></th>\n",
              "      <th></th>\n",
              "      <th></th>\n",
              "    </tr>\n",
              "  </thead>\n",
              "  <tbody>\n",
              "    <tr>\n",
              "      <th>2021-03-01 09:15:00+05:30</th>\n",
              "      <td>2110.20</td>\n",
              "      <td>2104.30</td>\n",
              "      <td>2088.80</td>\n",
              "      <td>2111.9</td>\n",
              "    </tr>\n",
              "    <tr>\n",
              "      <th>2021-03-01 09:40:00+05:30</th>\n",
              "      <td>2104.30</td>\n",
              "      <td>2099.10</td>\n",
              "      <td>2091.30</td>\n",
              "      <td>2105.6</td>\n",
              "    </tr>\n",
              "    <tr>\n",
              "      <th>2021-03-01 10:05:00+05:30</th>\n",
              "      <td>2099.80</td>\n",
              "      <td>2097.00</td>\n",
              "      <td>2087.60</td>\n",
              "      <td>2101.6</td>\n",
              "    </tr>\n",
              "    <tr>\n",
              "      <th>2021-03-01 10:30:00+05:30</th>\n",
              "      <td>2097.00</td>\n",
              "      <td>2100.85</td>\n",
              "      <td>2096.55</td>\n",
              "      <td>2108.9</td>\n",
              "    </tr>\n",
              "    <tr>\n",
              "      <th>2021-03-01 10:55:00+05:30</th>\n",
              "      <td>2100.85</td>\n",
              "      <td>2102.15</td>\n",
              "      <td>2100.05</td>\n",
              "      <td>2107.0</td>\n",
              "    </tr>\n",
              "  </tbody>\n",
              "</table>\n",
              "</div>"
            ],
            "text/plain": [
              "                              open    close      low    high\n",
              "date                                                        \n",
              "2021-03-01 09:15:00+05:30  2110.20  2104.30  2088.80  2111.9\n",
              "2021-03-01 09:40:00+05:30  2104.30  2099.10  2091.30  2105.6\n",
              "2021-03-01 10:05:00+05:30  2099.80  2097.00  2087.60  2101.6\n",
              "2021-03-01 10:30:00+05:30  2097.00  2100.85  2096.55  2108.9\n",
              "2021-03-01 10:55:00+05:30  2100.85  2102.15  2100.05  2107.0"
            ]
          },
          "metadata": {},
          "execution_count": 43
        }
      ]
    },
    {
      "cell_type": "code",
      "metadata": {
        "id": "NDDHTii55Fmj"
      },
      "source": [
        "t1.to_csv('reliance_25M.csv')"
      ],
      "execution_count": null,
      "outputs": []
    },
    {
      "cell_type": "code",
      "metadata": {
        "id": "9CkuUxLf5UIo",
        "colab": {
          "base_uri": "https://localhost:8080/",
          "height": 419
        },
        "outputId": "529bb471-7488-4f92-9050-507cbd5b8e0a"
      },
      "source": [
        "df"
      ],
      "execution_count": null,
      "outputs": [
        {
          "output_type": "execute_result",
          "data": {
            "text/html": [
              "<div>\n",
              "<style scoped>\n",
              "    .dataframe tbody tr th:only-of-type {\n",
              "        vertical-align: middle;\n",
              "    }\n",
              "\n",
              "    .dataframe tbody tr th {\n",
              "        vertical-align: top;\n",
              "    }\n",
              "\n",
              "    .dataframe thead th {\n",
              "        text-align: right;\n",
              "    }\n",
              "</style>\n",
              "<table border=\"1\" class=\"dataframe\">\n",
              "  <thead>\n",
              "    <tr style=\"text-align: right;\">\n",
              "      <th></th>\n",
              "      <th>date</th>\n",
              "      <th>open</th>\n",
              "      <th>high</th>\n",
              "      <th>low</th>\n",
              "      <th>close</th>\n",
              "      <th>volume</th>\n",
              "    </tr>\n",
              "  </thead>\n",
              "  <tbody>\n",
              "    <tr>\n",
              "      <th>0</th>\n",
              "      <td>2021-03-01 09:15:00+05:30</td>\n",
              "      <td>2110.20</td>\n",
              "      <td>2111.90</td>\n",
              "      <td>2093.00</td>\n",
              "      <td>2093.00</td>\n",
              "      <td>258626</td>\n",
              "    </tr>\n",
              "    <tr>\n",
              "      <th>1</th>\n",
              "      <td>2021-03-01 09:16:00+05:30</td>\n",
              "      <td>2092.35</td>\n",
              "      <td>2097.85</td>\n",
              "      <td>2088.80</td>\n",
              "      <td>2096.75</td>\n",
              "      <td>120495</td>\n",
              "    </tr>\n",
              "    <tr>\n",
              "      <th>2</th>\n",
              "      <td>2021-03-01 09:17:00+05:30</td>\n",
              "      <td>2097.50</td>\n",
              "      <td>2097.50</td>\n",
              "      <td>2091.10</td>\n",
              "      <td>2095.20</td>\n",
              "      <td>60153</td>\n",
              "    </tr>\n",
              "    <tr>\n",
              "      <th>3</th>\n",
              "      <td>2021-03-01 09:18:00+05:30</td>\n",
              "      <td>2095.75</td>\n",
              "      <td>2098.80</td>\n",
              "      <td>2095.75</td>\n",
              "      <td>2097.20</td>\n",
              "      <td>35057</td>\n",
              "    </tr>\n",
              "    <tr>\n",
              "      <th>4</th>\n",
              "      <td>2021-03-01 09:19:00+05:30</td>\n",
              "      <td>2097.00</td>\n",
              "      <td>2102.15</td>\n",
              "      <td>2096.80</td>\n",
              "      <td>2102.15</td>\n",
              "      <td>40434</td>\n",
              "    </tr>\n",
              "    <tr>\n",
              "      <th>...</th>\n",
              "      <td>...</td>\n",
              "      <td>...</td>\n",
              "      <td>...</td>\n",
              "      <td>...</td>\n",
              "      <td>...</td>\n",
              "      <td>...</td>\n",
              "    </tr>\n",
              "    <tr>\n",
              "      <th>35800</th>\n",
              "      <td>2021-07-20 12:10:00+05:30</td>\n",
              "      <td>2088.40</td>\n",
              "      <td>2088.40</td>\n",
              "      <td>2087.10</td>\n",
              "      <td>2087.15</td>\n",
              "      <td>4951</td>\n",
              "    </tr>\n",
              "    <tr>\n",
              "      <th>35801</th>\n",
              "      <td>2021-07-20 12:11:00+05:30</td>\n",
              "      <td>2087.10</td>\n",
              "      <td>2087.70</td>\n",
              "      <td>2085.65</td>\n",
              "      <td>2086.90</td>\n",
              "      <td>19915</td>\n",
              "    </tr>\n",
              "    <tr>\n",
              "      <th>35802</th>\n",
              "      <td>2021-07-20 12:12:00+05:30</td>\n",
              "      <td>2086.40</td>\n",
              "      <td>2087.35</td>\n",
              "      <td>2085.25</td>\n",
              "      <td>2085.25</td>\n",
              "      <td>9461</td>\n",
              "    </tr>\n",
              "    <tr>\n",
              "      <th>35803</th>\n",
              "      <td>2021-07-20 12:13:00+05:30</td>\n",
              "      <td>2085.05</td>\n",
              "      <td>2086.25</td>\n",
              "      <td>2084.00</td>\n",
              "      <td>2086.25</td>\n",
              "      <td>17818</td>\n",
              "    </tr>\n",
              "    <tr>\n",
              "      <th>35804</th>\n",
              "      <td>2021-07-20 12:14:00+05:30</td>\n",
              "      <td>2085.70</td>\n",
              "      <td>2088.00</td>\n",
              "      <td>2085.70</td>\n",
              "      <td>2087.20</td>\n",
              "      <td>4438</td>\n",
              "    </tr>\n",
              "  </tbody>\n",
              "</table>\n",
              "<p>35805 rows × 6 columns</p>\n",
              "</div>"
            ],
            "text/plain": [
              "                           date     open     high      low    close  volume\n",
              "0     2021-03-01 09:15:00+05:30  2110.20  2111.90  2093.00  2093.00  258626\n",
              "1     2021-03-01 09:16:00+05:30  2092.35  2097.85  2088.80  2096.75  120495\n",
              "2     2021-03-01 09:17:00+05:30  2097.50  2097.50  2091.10  2095.20   60153\n",
              "3     2021-03-01 09:18:00+05:30  2095.75  2098.80  2095.75  2097.20   35057\n",
              "4     2021-03-01 09:19:00+05:30  2097.00  2102.15  2096.80  2102.15   40434\n",
              "...                         ...      ...      ...      ...      ...     ...\n",
              "35800 2021-07-20 12:10:00+05:30  2088.40  2088.40  2087.10  2087.15    4951\n",
              "35801 2021-07-20 12:11:00+05:30  2087.10  2087.70  2085.65  2086.90   19915\n",
              "35802 2021-07-20 12:12:00+05:30  2086.40  2087.35  2085.25  2085.25    9461\n",
              "35803 2021-07-20 12:13:00+05:30  2085.05  2086.25  2084.00  2086.25   17818\n",
              "35804 2021-07-20 12:14:00+05:30  2085.70  2088.00  2085.70  2087.20    4438\n",
              "\n",
              "[35805 rows x 6 columns]"
            ]
          },
          "metadata": {},
          "execution_count": 17
        }
      ]
    },
    {
      "cell_type": "code",
      "metadata": {
        "colab": {
          "base_uri": "https://localhost:8080/",
          "height": 419
        },
        "id": "JWuHdJnmAsp_",
        "outputId": "b0e01190-474c-4fa8-a00b-34c224572175"
      },
      "source": [
        "df"
      ],
      "execution_count": null,
      "outputs": [
        {
          "output_type": "execute_result",
          "data": {
            "text/html": [
              "<div>\n",
              "<style scoped>\n",
              "    .dataframe tbody tr th:only-of-type {\n",
              "        vertical-align: middle;\n",
              "    }\n",
              "\n",
              "    .dataframe tbody tr th {\n",
              "        vertical-align: top;\n",
              "    }\n",
              "\n",
              "    .dataframe thead th {\n",
              "        text-align: right;\n",
              "    }\n",
              "</style>\n",
              "<table border=\"1\" class=\"dataframe\">\n",
              "  <thead>\n",
              "    <tr style=\"text-align: right;\">\n",
              "      <th></th>\n",
              "      <th>date</th>\n",
              "      <th>open</th>\n",
              "      <th>high</th>\n",
              "      <th>low</th>\n",
              "      <th>close</th>\n",
              "      <th>volume</th>\n",
              "    </tr>\n",
              "  </thead>\n",
              "  <tbody>\n",
              "    <tr>\n",
              "      <th>0</th>\n",
              "      <td>2021-03-01 09:15:00+05:30</td>\n",
              "      <td>2110.20</td>\n",
              "      <td>2111.90</td>\n",
              "      <td>2093.00</td>\n",
              "      <td>2093.00</td>\n",
              "      <td>258626</td>\n",
              "    </tr>\n",
              "    <tr>\n",
              "      <th>1</th>\n",
              "      <td>2021-03-01 09:16:00+05:30</td>\n",
              "      <td>2092.35</td>\n",
              "      <td>2097.85</td>\n",
              "      <td>2088.80</td>\n",
              "      <td>2096.75</td>\n",
              "      <td>120495</td>\n",
              "    </tr>\n",
              "    <tr>\n",
              "      <th>2</th>\n",
              "      <td>2021-03-01 09:17:00+05:30</td>\n",
              "      <td>2097.50</td>\n",
              "      <td>2097.50</td>\n",
              "      <td>2091.10</td>\n",
              "      <td>2095.20</td>\n",
              "      <td>60153</td>\n",
              "    </tr>\n",
              "    <tr>\n",
              "      <th>3</th>\n",
              "      <td>2021-03-01 09:18:00+05:30</td>\n",
              "      <td>2095.75</td>\n",
              "      <td>2098.80</td>\n",
              "      <td>2095.75</td>\n",
              "      <td>2097.20</td>\n",
              "      <td>35057</td>\n",
              "    </tr>\n",
              "    <tr>\n",
              "      <th>4</th>\n",
              "      <td>2021-03-01 09:19:00+05:30</td>\n",
              "      <td>2097.00</td>\n",
              "      <td>2102.15</td>\n",
              "      <td>2096.80</td>\n",
              "      <td>2102.15</td>\n",
              "      <td>40434</td>\n",
              "    </tr>\n",
              "    <tr>\n",
              "      <th>...</th>\n",
              "      <td>...</td>\n",
              "      <td>...</td>\n",
              "      <td>...</td>\n",
              "      <td>...</td>\n",
              "      <td>...</td>\n",
              "      <td>...</td>\n",
              "    </tr>\n",
              "    <tr>\n",
              "      <th>35800</th>\n",
              "      <td>2021-07-20 12:10:00+05:30</td>\n",
              "      <td>2088.40</td>\n",
              "      <td>2088.40</td>\n",
              "      <td>2087.10</td>\n",
              "      <td>2087.15</td>\n",
              "      <td>4951</td>\n",
              "    </tr>\n",
              "    <tr>\n",
              "      <th>35801</th>\n",
              "      <td>2021-07-20 12:11:00+05:30</td>\n",
              "      <td>2087.10</td>\n",
              "      <td>2087.70</td>\n",
              "      <td>2085.65</td>\n",
              "      <td>2086.90</td>\n",
              "      <td>19915</td>\n",
              "    </tr>\n",
              "    <tr>\n",
              "      <th>35802</th>\n",
              "      <td>2021-07-20 12:12:00+05:30</td>\n",
              "      <td>2086.40</td>\n",
              "      <td>2087.35</td>\n",
              "      <td>2085.25</td>\n",
              "      <td>2085.25</td>\n",
              "      <td>9461</td>\n",
              "    </tr>\n",
              "    <tr>\n",
              "      <th>35803</th>\n",
              "      <td>2021-07-20 12:13:00+05:30</td>\n",
              "      <td>2085.05</td>\n",
              "      <td>2086.25</td>\n",
              "      <td>2084.00</td>\n",
              "      <td>2086.25</td>\n",
              "      <td>17818</td>\n",
              "    </tr>\n",
              "    <tr>\n",
              "      <th>35804</th>\n",
              "      <td>2021-07-20 12:14:00+05:30</td>\n",
              "      <td>2085.70</td>\n",
              "      <td>2088.00</td>\n",
              "      <td>2085.70</td>\n",
              "      <td>2087.20</td>\n",
              "      <td>4438</td>\n",
              "    </tr>\n",
              "  </tbody>\n",
              "</table>\n",
              "<p>35805 rows × 6 columns</p>\n",
              "</div>"
            ],
            "text/plain": [
              "                            date     open     high      low    close  volume\n",
              "0      2021-03-01 09:15:00+05:30  2110.20  2111.90  2093.00  2093.00  258626\n",
              "1      2021-03-01 09:16:00+05:30  2092.35  2097.85  2088.80  2096.75  120495\n",
              "2      2021-03-01 09:17:00+05:30  2097.50  2097.50  2091.10  2095.20   60153\n",
              "3      2021-03-01 09:18:00+05:30  2095.75  2098.80  2095.75  2097.20   35057\n",
              "4      2021-03-01 09:19:00+05:30  2097.00  2102.15  2096.80  2102.15   40434\n",
              "...                          ...      ...      ...      ...      ...     ...\n",
              "35800  2021-07-20 12:10:00+05:30  2088.40  2088.40  2087.10  2087.15    4951\n",
              "35801  2021-07-20 12:11:00+05:30  2087.10  2087.70  2085.65  2086.90   19915\n",
              "35802  2021-07-20 12:12:00+05:30  2086.40  2087.35  2085.25  2085.25    9461\n",
              "35803  2021-07-20 12:13:00+05:30  2085.05  2086.25  2084.00  2086.25   17818\n",
              "35804  2021-07-20 12:14:00+05:30  2085.70  2088.00  2085.70  2087.20    4438\n",
              "\n",
              "[35805 rows x 6 columns]"
            ]
          },
          "metadata": {},
          "execution_count": 5
        }
      ]
    },
    {
      "cell_type": "code",
      "metadata": {
        "id": "uyfzIMBTA0NO"
      },
      "source": [
        "df['date'] = pd.to_datetime(df['date'])"
      ],
      "execution_count": null,
      "outputs": []
    },
    {
      "cell_type": "code",
      "metadata": {
        "id": "6plGNusqBD4U"
      },
      "source": [
        "df['date'].date.find('2021')"
      ],
      "execution_count": null,
      "outputs": []
    },
    {
      "cell_type": "code",
      "metadata": {
        "id": "UtW8QLvKBEfr"
      },
      "source": [
        ""
      ],
      "execution_count": null,
      "outputs": []
    }
  ]
}